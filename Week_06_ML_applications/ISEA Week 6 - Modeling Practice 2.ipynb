{
 "cells": [
  {
   "cell_type": "markdown",
   "id": "b13ddd3d",
   "metadata": {},
   "source": [
    "# ISEA Week 6 - Modeling practice\n",
    "\n",
    "Author: Lovenoor Aulck"
   ]
  },
  {
   "cell_type": "markdown",
   "id": "1526b533",
   "metadata": {},
   "source": [
    "In this exercise, we are going to attempt to predict salary. The data we will use can be found here: \n",
    "\n",
    "https://archive.ics.uci.edu/dataset/2/adult"
   ]
  },
  {
   "cell_type": "markdown",
   "id": "327fa185",
   "metadata": {},
   "source": [
    "### Import packages"
   ]
  },
  {
   "cell_type": "code",
   "execution_count": 1,
   "id": "3b3376d0",
   "metadata": {},
   "outputs": [],
   "source": [
    "import pandas as pd\n",
    "import numpy as np\n",
    "import matplotlib.pyplot as plt\n",
    "import seaborn as sns\n",
    "\n",
    "import torch\n",
    "from torch import nn\n",
    "from pytorch_tabnet.tab_model import TabNetClassifier\n",
    "\n",
    "from sklearn.model_selection import train_test_split\n",
    "from sklearn.model_selection import cross_val_score\n",
    "from sklearn.model_selection import GridSearchCV\n",
    "from sklearn.metrics import roc_auc_score\n",
    "from sklearn.metrics import f1_score\n",
    "from sklearn.linear_model import LogisticRegression\n",
    "from sklearn.ensemble import RandomForestClassifier\n",
    "from sklearn.preprocessing import LabelEncoder"
   ]
  },
  {
   "cell_type": "code",
   "execution_count": 2,
   "id": "f0f53059",
   "metadata": {},
   "outputs": [],
   "source": [
    "sns.set_style('whitegrid')"
   ]
  },
  {
   "cell_type": "markdown",
   "id": "aabebb6b",
   "metadata": {},
   "source": [
    "### Import and inspect data"
   ]
  },
  {
   "cell_type": "code",
   "execution_count": null,
   "id": "bc102df1",
   "metadata": {},
   "outputs": [],
   "source": [
    "dat = pd.read_csv(\"adult.\")"
   ]
  },
  {
   "cell_type": "markdown",
   "id": "3b209fcd",
   "metadata": {},
   "source": [
    "### Clean data"
   ]
  },
  {
   "cell_type": "code",
   "execution_count": null,
   "id": "569dab93",
   "metadata": {},
   "outputs": [],
   "source": []
  },
  {
   "cell_type": "markdown",
   "id": "f42fc5fc",
   "metadata": {},
   "source": [
    "### Make predictions"
   ]
  },
  {
   "cell_type": "markdown",
   "id": "2004689d",
   "metadata": {},
   "source": [
    "#### Model 1 - logistic regression"
   ]
  },
  {
   "cell_type": "code",
   "execution_count": null,
   "id": "4ea8171b",
   "metadata": {},
   "outputs": [],
   "source": []
  },
  {
   "cell_type": "markdown",
   "id": "9a007c7f",
   "metadata": {},
   "source": [
    "#### Model 2 - Random Forests"
   ]
  },
  {
   "cell_type": "code",
   "execution_count": null,
   "id": "ba64a544",
   "metadata": {},
   "outputs": [],
   "source": []
  },
  {
   "cell_type": "markdown",
   "id": "75a7bb22",
   "metadata": {},
   "source": [
    "#### Model 3 - TabNet"
   ]
  },
  {
   "cell_type": "code",
   "execution_count": null,
   "id": "75bdb50f",
   "metadata": {},
   "outputs": [],
   "source": []
  }
 ],
 "metadata": {
  "kernelspec": {
   "display_name": "Python 3 (ipykernel)",
   "language": "python",
   "name": "python3"
  },
  "language_info": {
   "codemirror_mode": {
    "name": "ipython",
    "version": 3
   },
   "file_extension": ".py",
   "mimetype": "text/x-python",
   "name": "python",
   "nbconvert_exporter": "python",
   "pygments_lexer": "ipython3",
   "version": "3.11.5"
  }
 },
 "nbformat": 4,
 "nbformat_minor": 5
}
