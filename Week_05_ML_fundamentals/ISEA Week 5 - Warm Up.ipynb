{
 "cells": [
  {
   "cell_type": "markdown",
   "metadata": {},
   "source": [
    "# ISEA Week 5 - Warm Up\n",
    "\n",
    "Author: Lovenoor Aulck"
   ]
  },
  {
   "cell_type": "markdown",
   "metadata": {},
   "source": [
    "In this exercise, we are going to look at the relationship between education and wages. The data we will use can be found here: \n",
    "\n",
    "https://www.kaggle.com/datasets/asaniczka/usa-wage-comparison-for-college-vs-high-school?resource=download"
   ]
  },
  {
   "cell_type": "markdown",
   "metadata": {},
   "source": [
    "### Import packages"
   ]
  },
  {
   "cell_type": "code",
   "execution_count": null,
   "metadata": {},
   "outputs": [],
   "source": [
    "import pandas as pd\n",
    "import statsmodels.api as sm\n",
    "import numpy as np\n",
    "import random\n",
    "import seaborn as sns\n",
    "from sklearn import datasets"
   ]
  },
  {
   "cell_type": "code",
   "execution_count": 1,
   "metadata": {},
   "outputs": [
    {
     "ename": "NameError",
     "evalue": "name 'sns' is not defined",
     "output_type": "error",
     "traceback": [
      "\u001b[0;31m---------------------------------------------------------------------------\u001b[0m",
      "\u001b[0;31mNameError\u001b[0m                                 Traceback (most recent call last)",
      "\u001b[0;32m<ipython-input-1-7c1890868f3b>\u001b[0m in \u001b[0;36m<module>\u001b[0;34m\u001b[0m\n\u001b[0;32m----> 1\u001b[0;31m \u001b[0msns\u001b[0m\u001b[0;34m.\u001b[0m\u001b[0mset_style\u001b[0m\u001b[0;34m(\u001b[0m\u001b[0;34m'whitegrid'\u001b[0m\u001b[0;34m)\u001b[0m\u001b[0;34m\u001b[0m\u001b[0;34m\u001b[0m\u001b[0m\n\u001b[0m",
      "\u001b[0;31mNameError\u001b[0m: name 'sns' is not defined"
     ]
    }
   ],
   "source": [
    "sns.set_style('whitegrid')"
   ]
  },
  {
   "cell_type": "markdown",
   "metadata": {},
   "source": [
    "### Import and inspect data"
   ]
  },
  {
   "cell_type": "code",
   "execution_count": 1,
   "metadata": {},
   "outputs": [
    {
     "ename": "NameError",
     "evalue": "name 'pd' is not defined",
     "output_type": "error",
     "traceback": [
      "\u001b[0;31m---------------------------------------------------------------------------\u001b[0m",
      "\u001b[0;31mNameError\u001b[0m                                 Traceback (most recent call last)",
      "\u001b[0;32m<ipython-input-1-68b682b97457>\u001b[0m in \u001b[0;36m<module>\u001b[0;34m\u001b[0m\n\u001b[0;32m----> 1\u001b[0;31m \u001b[0mdata\u001b[0m \u001b[0;34m=\u001b[0m \u001b[0mpd\u001b[0m\u001b[0;34m.\u001b[0m\u001b[0mread_csv\u001b[0m\u001b[0;34m(\u001b[0m\u001b[0;34m'college_wages.csv'\u001b[0m\u001b[0;34m)\u001b[0m\u001b[0;34m\u001b[0m\u001b[0;34m\u001b[0m\u001b[0m\n\u001b[0m",
      "\u001b[0;31mNameError\u001b[0m: name 'pd' is not defined"
     ]
    }
   ],
   "source": [
    "data = pd.read_csv('college_wages.csv')"
   ]
  },
  {
   "cell_type": "code",
   "execution_count": 4,
   "metadata": {},
   "outputs": [
    {
     "data": {
      "text/html": [
       "<div>\n",
       "<style scoped>\n",
       "    .dataframe tbody tr th:only-of-type {\n",
       "        vertical-align: middle;\n",
       "    }\n",
       "\n",
       "    .dataframe tbody tr th {\n",
       "        vertical-align: top;\n",
       "    }\n",
       "\n",
       "    .dataframe thead th {\n",
       "        text-align: right;\n",
       "    }\n",
       "</style>\n",
       "<table border=\"1\" class=\"dataframe\">\n",
       "  <thead>\n",
       "    <tr style=\"text-align: right;\">\n",
       "      <th></th>\n",
       "      <th>year</th>\n",
       "      <th>high_school</th>\n",
       "      <th>bachelors_degree</th>\n",
       "      <th>men_high_school</th>\n",
       "      <th>men_bachelors_degree</th>\n",
       "      <th>women_high_school</th>\n",
       "      <th>women_bachelors_degree</th>\n",
       "    </tr>\n",
       "  </thead>\n",
       "  <tbody>\n",
       "    <tr>\n",
       "      <th>0</th>\n",
       "      <td>2022</td>\n",
       "      <td>21.94</td>\n",
       "      <td>41.60</td>\n",
       "      <td>24.08</td>\n",
       "      <td>49.01</td>\n",
       "      <td>18.93</td>\n",
       "      <td>34.39</td>\n",
       "    </tr>\n",
       "    <tr>\n",
       "      <th>1</th>\n",
       "      <td>2021</td>\n",
       "      <td>22.28</td>\n",
       "      <td>41.32</td>\n",
       "      <td>24.36</td>\n",
       "      <td>47.83</td>\n",
       "      <td>19.36</td>\n",
       "      <td>35.08</td>\n",
       "    </tr>\n",
       "    <tr>\n",
       "      <th>2</th>\n",
       "      <td>2020</td>\n",
       "      <td>22.70</td>\n",
       "      <td>41.65</td>\n",
       "      <td>25.09</td>\n",
       "      <td>48.15</td>\n",
       "      <td>19.35</td>\n",
       "      <td>35.41</td>\n",
       "    </tr>\n",
       "    <tr>\n",
       "      <th>3</th>\n",
       "      <td>2019</td>\n",
       "      <td>21.64</td>\n",
       "      <td>39.61</td>\n",
       "      <td>23.99</td>\n",
       "      <td>45.74</td>\n",
       "      <td>18.48</td>\n",
       "      <td>33.80</td>\n",
       "    </tr>\n",
       "    <tr>\n",
       "      <th>4</th>\n",
       "      <td>2018</td>\n",
       "      <td>21.50</td>\n",
       "      <td>38.87</td>\n",
       "      <td>23.72</td>\n",
       "      <td>44.97</td>\n",
       "      <td>18.49</td>\n",
       "      <td>33.03</td>\n",
       "    </tr>\n",
       "  </tbody>\n",
       "</table>\n",
       "</div>"
      ],
      "text/plain": [
       "   year  high_school  bachelors_degree  men_high_school  men_bachelors_degree  \\\n",
       "0  2022        21.94             41.60            24.08                 49.01   \n",
       "1  2021        22.28             41.32            24.36                 47.83   \n",
       "2  2020        22.70             41.65            25.09                 48.15   \n",
       "3  2019        21.64             39.61            23.99                 45.74   \n",
       "4  2018        21.50             38.87            23.72                 44.97   \n",
       "\n",
       "   women_high_school  women_bachelors_degree  \n",
       "0              18.93                   34.39  \n",
       "1              19.36                   35.08  \n",
       "2              19.35                   35.41  \n",
       "3              18.48                   33.80  \n",
       "4              18.49                   33.03  "
      ]
     },
     "execution_count": 4,
     "metadata": {},
     "output_type": "execute_result"
    }
   ],
   "source": [
    "data.head()"
   ]
  },
  {
   "cell_type": "code",
   "execution_count": 5,
   "metadata": {},
   "outputs": [
    {
     "data": {
      "text/html": [
       "<div>\n",
       "<style scoped>\n",
       "    .dataframe tbody tr th:only-of-type {\n",
       "        vertical-align: middle;\n",
       "    }\n",
       "\n",
       "    .dataframe tbody tr th {\n",
       "        vertical-align: top;\n",
       "    }\n",
       "\n",
       "    .dataframe thead th {\n",
       "        text-align: right;\n",
       "    }\n",
       "</style>\n",
       "<table border=\"1\" class=\"dataframe\">\n",
       "  <thead>\n",
       "    <tr style=\"text-align: right;\">\n",
       "      <th></th>\n",
       "      <th>year</th>\n",
       "      <th>high_school</th>\n",
       "      <th>bachelors_degree</th>\n",
       "      <th>men_high_school</th>\n",
       "      <th>men_bachelors_degree</th>\n",
       "      <th>women_high_school</th>\n",
       "      <th>women_bachelors_degree</th>\n",
       "    </tr>\n",
       "  </thead>\n",
       "  <tbody>\n",
       "    <tr>\n",
       "      <th>count</th>\n",
       "      <td>50.00000</td>\n",
       "      <td>50.000000</td>\n",
       "      <td>50.000000</td>\n",
       "      <td>50.000000</td>\n",
       "      <td>50.000000</td>\n",
       "      <td>50.000000</td>\n",
       "      <td>50.000000</td>\n",
       "    </tr>\n",
       "    <tr>\n",
       "      <th>mean</th>\n",
       "      <td>1997.50000</td>\n",
       "      <td>20.876600</td>\n",
       "      <td>34.768600</td>\n",
       "      <td>23.832600</td>\n",
       "      <td>39.988400</td>\n",
       "      <td>17.571600</td>\n",
       "      <td>28.926400</td>\n",
       "    </tr>\n",
       "    <tr>\n",
       "      <th>std</th>\n",
       "      <td>14.57738</td>\n",
       "      <td>0.742743</td>\n",
       "      <td>3.306645</td>\n",
       "      <td>1.225697</td>\n",
       "      <td>3.734945</td>\n",
       "      <td>0.854342</td>\n",
       "      <td>3.760532</td>\n",
       "    </tr>\n",
       "    <tr>\n",
       "      <th>min</th>\n",
       "      <td>1973.00000</td>\n",
       "      <td>19.620000</td>\n",
       "      <td>30.040000</td>\n",
       "      <td>22.110000</td>\n",
       "      <td>35.160000</td>\n",
       "      <td>16.450000</td>\n",
       "      <td>22.940000</td>\n",
       "    </tr>\n",
       "    <tr>\n",
       "      <th>25%</th>\n",
       "      <td>1985.25000</td>\n",
       "      <td>20.392500</td>\n",
       "      <td>31.875000</td>\n",
       "      <td>22.945000</td>\n",
       "      <td>36.605000</td>\n",
       "      <td>16.890000</td>\n",
       "      <td>25.462500</td>\n",
       "    </tr>\n",
       "    <tr>\n",
       "      <th>50%</th>\n",
       "      <td>1997.50000</td>\n",
       "      <td>20.855000</td>\n",
       "      <td>34.205000</td>\n",
       "      <td>23.695000</td>\n",
       "      <td>39.485000</td>\n",
       "      <td>17.370000</td>\n",
       "      <td>29.425000</td>\n",
       "    </tr>\n",
       "    <tr>\n",
       "      <th>75%</th>\n",
       "      <td>2009.75000</td>\n",
       "      <td>21.480000</td>\n",
       "      <td>37.122500</td>\n",
       "      <td>24.307500</td>\n",
       "      <td>42.340000</td>\n",
       "      <td>18.317500</td>\n",
       "      <td>31.975000</td>\n",
       "    </tr>\n",
       "    <tr>\n",
       "      <th>max</th>\n",
       "      <td>2022.00000</td>\n",
       "      <td>22.700000</td>\n",
       "      <td>41.650000</td>\n",
       "      <td>26.900000</td>\n",
       "      <td>49.010000</td>\n",
       "      <td>19.360000</td>\n",
       "      <td>35.410000</td>\n",
       "    </tr>\n",
       "  </tbody>\n",
       "</table>\n",
       "</div>"
      ],
      "text/plain": [
       "             year  high_school  bachelors_degree  men_high_school  \\\n",
       "count    50.00000    50.000000         50.000000        50.000000   \n",
       "mean   1997.50000    20.876600         34.768600        23.832600   \n",
       "std      14.57738     0.742743          3.306645         1.225697   \n",
       "min    1973.00000    19.620000         30.040000        22.110000   \n",
       "25%    1985.25000    20.392500         31.875000        22.945000   \n",
       "50%    1997.50000    20.855000         34.205000        23.695000   \n",
       "75%    2009.75000    21.480000         37.122500        24.307500   \n",
       "max    2022.00000    22.700000         41.650000        26.900000   \n",
       "\n",
       "       men_bachelors_degree  women_high_school  women_bachelors_degree  \n",
       "count             50.000000          50.000000               50.000000  \n",
       "mean              39.988400          17.571600               28.926400  \n",
       "std                3.734945           0.854342                3.760532  \n",
       "min               35.160000          16.450000               22.940000  \n",
       "25%               36.605000          16.890000               25.462500  \n",
       "50%               39.485000          17.370000               29.425000  \n",
       "75%               42.340000          18.317500               31.975000  \n",
       "max               49.010000          19.360000               35.410000  "
      ]
     },
     "execution_count": 5,
     "metadata": {},
     "output_type": "execute_result"
    }
   ],
   "source": [
    "data.describe()"
   ]
  },
  {
   "cell_type": "code",
   "execution_count": 6,
   "metadata": {},
   "outputs": [
    {
     "data": {
      "text/plain": [
       "year                      0\n",
       "high_school               0\n",
       "bachelors_degree          0\n",
       "men_high_school           0\n",
       "men_bachelors_degree      0\n",
       "women_high_school         0\n",
       "women_bachelors_degree    0\n",
       "dtype: int64"
      ]
     },
     "execution_count": 6,
     "metadata": {},
     "output_type": "execute_result"
    }
   ],
   "source": [
    "data.isna().sum()"
   ]
  },
  {
   "cell_type": "markdown",
   "metadata": {},
   "source": [
    "### Plot data"
   ]
  },
  {
   "cell_type": "code",
   "execution_count": 7,
   "metadata": {},
   "outputs": [
    {
     "data": {
      "image/png": "[encoded data removed]",
      "text/plain": [
       "<Figure size 640x480 with 1 Axes>"
      ]
     },
     "metadata": {},
     "output_type": "display_data"
    }
   ],
   "source": [
    "ax = sns.lineplot(data = data[['year', 'bachelors_degree']], \n",
    "                x = 'year', \n",
    "                y = 'bachelors_degree',\n",
    "                linestyle = '--',\n",
    "                marker = 'o');\n",
    "ax.set(xlabel = 'Year', ylabel = 'Hourly Wage ($)');"
   ]
  },
  {
   "cell_type": "code",
   "execution_count": 8,
   "metadata": {},
   "outputs": [
    {
     "data": {
      "text/html": [
       "<div>\n",
       "<style scoped>\n",
       "    .dataframe tbody tr th:only-of-type {\n",
       "        vertical-align: middle;\n",
       "    }\n",
       "\n",
       "    .dataframe tbody tr th {\n",
       "        vertical-align: top;\n",
       "    }\n",
       "\n",
       "    .dataframe thead th {\n",
       "        text-align: right;\n",
       "    }\n",
       "</style>\n",
       "<table border=\"1\" class=\"dataframe\">\n",
       "  <thead>\n",
       "    <tr style=\"text-align: right;\">\n",
       "      <th></th>\n",
       "      <th>year</th>\n",
       "      <th>schooling</th>\n",
       "      <th>salary</th>\n",
       "    </tr>\n",
       "  </thead>\n",
       "  <tbody>\n",
       "    <tr>\n",
       "      <th>0</th>\n",
       "      <td>2022</td>\n",
       "      <td>bachelors_degree</td>\n",
       "      <td>41.60</td>\n",
       "    </tr>\n",
       "    <tr>\n",
       "      <th>1</th>\n",
       "      <td>2021</td>\n",
       "      <td>bachelors_degree</td>\n",
       "      <td>41.32</td>\n",
       "    </tr>\n",
       "    <tr>\n",
       "      <th>2</th>\n",
       "      <td>2020</td>\n",
       "      <td>bachelors_degree</td>\n",
       "      <td>41.65</td>\n",
       "    </tr>\n",
       "    <tr>\n",
       "      <th>3</th>\n",
       "      <td>2019</td>\n",
       "      <td>bachelors_degree</td>\n",
       "      <td>39.61</td>\n",
       "    </tr>\n",
       "    <tr>\n",
       "      <th>4</th>\n",
       "      <td>2018</td>\n",
       "      <td>bachelors_degree</td>\n",
       "      <td>38.87</td>\n",
       "    </tr>\n",
       "  </tbody>\n",
       "</table>\n",
       "</div>"
      ],
      "text/plain": [
       "   year         schooling  salary\n",
       "0  2022  bachelors_degree   41.60\n",
       "1  2021  bachelors_degree   41.32\n",
       "2  2020  bachelors_degree   41.65\n",
       "3  2019  bachelors_degree   39.61\n",
       "4  2018  bachelors_degree   38.87"
      ]
     },
     "execution_count": 8,
     "metadata": {},
     "output_type": "execute_result"
    }
   ],
   "source": [
    "reshaped = data[['year', 'bachelors_degree', 'high_school']]\n",
    "reshaped = pd.melt(reshaped, id_vars = ['year'])\n",
    "reshaped.columns = ['year', 'schooling', 'salary']\n",
    "reshaped.head()"
   ]
  },
  {
   "cell_type": "code",
   "execution_count": 9,
   "metadata": {},
   "outputs": [
    {
     "data": {
      "image/png": "[encoded data removed]",
      "text/plain": [
       "<Figure size 640x480 with 1 Axes>"
      ]
     },
     "metadata": {},
     "output_type": "display_data"
    }
   ],
   "source": [
    "ax = sns.lineplot(data = reshaped, \n",
    "                x = 'year', \n",
    "                y = 'salary',\n",
    "                hue = 'schooling',\n",
    "                linestyle = '--',\n",
    "                marker = 'o');\n",
    "ax.set(xlabel = 'Year', ylabel = 'Hourly Wage ($)');"
   ]
  },
  {
   "cell_type": "markdown",
   "metadata": {},
   "source": [
    "### Run regression"
   ]
  },
  {
   "cell_type": "code",
   "execution_count": 10,
   "metadata": {},
   "outputs": [],
   "source": [
    "X = reshaped[['year', 'schooling']]\n",
    "Y = reshaped[['salary']]"
   ]
  },
  {
   "cell_type": "code",
   "execution_count": 11,
   "metadata": {},
   "outputs": [
    {
     "data": {
      "text/html": [
       "<div>\n",
       "<style scoped>\n",
       "    .dataframe tbody tr th:only-of-type {\n",
       "        vertical-align: middle;\n",
       "    }\n",
       "\n",
       "    .dataframe tbody tr th {\n",
       "        vertical-align: top;\n",
       "    }\n",
       "\n",
       "    .dataframe thead th {\n",
       "        text-align: right;\n",
       "    }\n",
       "</style>\n",
       "<table border=\"1\" class=\"dataframe\">\n",
       "  <thead>\n",
       "    <tr style=\"text-align: right;\">\n",
       "      <th></th>\n",
       "      <th>const</th>\n",
       "      <th>year</th>\n",
       "      <th>bachelors</th>\n",
       "    </tr>\n",
       "  </thead>\n",
       "  <tbody>\n",
       "    <tr>\n",
       "      <th>0</th>\n",
       "      <td>1.0</td>\n",
       "      <td>2022</td>\n",
       "      <td>1</td>\n",
       "    </tr>\n",
       "    <tr>\n",
       "      <th>1</th>\n",
       "      <td>1.0</td>\n",
       "      <td>2021</td>\n",
       "      <td>1</td>\n",
       "    </tr>\n",
       "    <tr>\n",
       "      <th>2</th>\n",
       "      <td>1.0</td>\n",
       "      <td>2020</td>\n",
       "      <td>1</td>\n",
       "    </tr>\n",
       "    <tr>\n",
       "      <th>3</th>\n",
       "      <td>1.0</td>\n",
       "      <td>2019</td>\n",
       "      <td>1</td>\n",
       "    </tr>\n",
       "    <tr>\n",
       "      <th>4</th>\n",
       "      <td>1.0</td>\n",
       "      <td>2018</td>\n",
       "      <td>1</td>\n",
       "    </tr>\n",
       "  </tbody>\n",
       "</table>\n",
       "</div>"
      ],
      "text/plain": [
       "   const  year  bachelors\n",
       "0    1.0  2022          1\n",
       "1    1.0  2021          1\n",
       "2    1.0  2020          1\n",
       "3    1.0  2019          1\n",
       "4    1.0  2018          1"
      ]
     },
     "execution_count": 11,
     "metadata": {},
     "output_type": "execute_result"
    }
   ],
   "source": [
    "X['bachelors'] = (X.schooling == 'bachelors_degree').astype(int)\n",
    "X = X.drop('schooling', axis = 1)\n",
    "X = sm.add_constant(X)\n",
    "X.head()"
   ]
  },
  {
   "cell_type": "code",
   "execution_count": 12,
   "metadata": {
    "scrolled": false
   },
   "outputs": [
    {
     "data": {
      "text/html": [
       "<table class=\"simpletable\">\n",
       "<caption>OLS Regression Results</caption>\n",
       "<tr>\n",
       "  <th>Dep. Variable:</th>         <td>salary</td>      <th>  R-squared:         </th> <td>   0.943</td>\n",
       "</tr>\n",
       "<tr>\n",
       "  <th>Model:</th>                   <td>OLS</td>       <th>  Adj. R-squared:    </th> <td>   0.941</td>\n",
       "</tr>\n",
       "<tr>\n",
       "  <th>Method:</th>             <td>Least Squares</td>  <th>  F-statistic:       </th> <td>   795.3</td>\n",
       "</tr>\n",
       "<tr>\n",
       "  <th>Date:</th>             <td>Thu, 22 Feb 2024</td> <th>  Prob (F-statistic):</th> <td>6.85e-61</td>\n",
       "</tr>\n",
       "<tr>\n",
       "  <th>Time:</th>                 <td>09:49:00</td>     <th>  Log-Likelihood:    </th> <td> -198.41</td>\n",
       "</tr>\n",
       "<tr>\n",
       "  <th>No. Observations:</th>      <td>   100</td>      <th>  AIC:               </th> <td>   402.8</td>\n",
       "</tr>\n",
       "<tr>\n",
       "  <th>Df Residuals:</th>          <td>    97</td>      <th>  BIC:               </th> <td>   410.6</td>\n",
       "</tr>\n",
       "<tr>\n",
       "  <th>Df Model:</th>              <td>     2</td>      <th>                     </th>     <td> </td>   \n",
       "</tr>\n",
       "<tr>\n",
       "  <th>Covariance Type:</th>      <td>nonrobust</td>    <th>                     </th>     <td> </td>   \n",
       "</tr>\n",
       "</table>\n",
       "<table class=\"simpletable\">\n",
       "<tr>\n",
       "      <td></td>         <th>coef</th>     <th>std err</th>      <th>t</th>      <th>P>|t|</th>  <th>[0.025</th>    <th>0.975]</th>  \n",
       "</tr>\n",
       "<tr>\n",
       "  <th>const</th>     <td> -199.3491</td> <td>   24.733</td> <td>   -8.060</td> <td> 0.000</td> <td> -248.437</td> <td> -150.261</td>\n",
       "</tr>\n",
       "<tr>\n",
       "  <th>year</th>      <td>    0.1103</td> <td>    0.012</td> <td>    8.905</td> <td> 0.000</td> <td>    0.086</td> <td>    0.135</td>\n",
       "</tr>\n",
       "<tr>\n",
       "  <th>bachelors</th> <td>   13.8920</td> <td>    0.357</td> <td>   38.876</td> <td> 0.000</td> <td>   13.183</td> <td>   14.601</td>\n",
       "</tr>\n",
       "</table>\n",
       "<table class=\"simpletable\">\n",
       "<tr>\n",
       "  <th>Omnibus:</th>       <td> 6.051</td> <th>  Durbin-Watson:     </th> <td>   0.101</td>\n",
       "</tr>\n",
       "<tr>\n",
       "  <th>Prob(Omnibus):</th> <td> 0.049</td> <th>  Jarque-Bera (JB):  </th> <td>   5.868</td>\n",
       "</tr>\n",
       "<tr>\n",
       "  <th>Skew:</th>          <td> 0.541</td> <th>  Prob(JB):          </th> <td>  0.0532</td>\n",
       "</tr>\n",
       "<tr>\n",
       "  <th>Kurtosis:</th>      <td> 2.513</td> <th>  Cond. No.          </th> <td>2.77e+05</td>\n",
       "</tr>\n",
       "</table><br/><br/>Notes:<br/>[1] Standard Errors assume that the covariance matrix of the errors is correctly specified.<br/>[2] The condition number is large, 2.77e+05. This might indicate that there are<br/>strong multicollinearity or other numerical problems."
      ],
      "text/plain": [
       "<class 'statsmodels.iolib.summary.Summary'>\n",
       "\"\"\"\n",
       "                            OLS Regression Results                            \n",
       "==============================================================================\n",
       "Dep. Variable:                 salary   R-squared:                       0.943\n",
       "Model:                            OLS   Adj. R-squared:                  0.941\n",
       "Method:                 Least Squares   F-statistic:                     795.3\n",
       "Date:                Thu, 22 Feb 2024   Prob (F-statistic):           6.85e-61\n",
       "Time:                        09:49:00   Log-Likelihood:                -198.41\n",
       "No. Observations:                 100   AIC:                             402.8\n",
       "Df Residuals:                      97   BIC:                             410.6\n",
       "Df Model:                           2                                         \n",
       "Covariance Type:            nonrobust                                         \n",
       "==============================================================================\n",
       "                 coef    std err          t      P>|t|      [0.025      0.975]\n",
       "------------------------------------------------------------------------------\n",
       "const       -199.3491     24.733     -8.060      0.000    -248.437    -150.261\n",
       "year           0.1103      0.012      8.905      0.000       0.086       0.135\n",
       "bachelors     13.8920      0.357     38.876      0.000      13.183      14.601\n",
       "==============================================================================\n",
       "Omnibus:                        6.051   Durbin-Watson:                   0.101\n",
       "Prob(Omnibus):                  0.049   Jarque-Bera (JB):                5.868\n",
       "Skew:                           0.541   Prob(JB):                       0.0532\n",
       "Kurtosis:                       2.513   Cond. No.                     2.77e+05\n",
       "==============================================================================\n",
       "\n",
       "Notes:\n",
       "[1] Standard Errors assume that the covariance matrix of the errors is correctly specified.\n",
       "[2] The condition number is large, 2.77e+05. This might indicate that there are\n",
       "strong multicollinearity or other numerical problems.\n",
       "\"\"\""
      ]
     },
     "execution_count": 12,
     "metadata": {},
     "output_type": "execute_result"
    }
   ],
   "source": [
    "model = sm.OLS(Y, X)\n",
    "model_result = model.fit()\n",
    "model_result.summary()"
   ]
  },
  {
   "cell_type": "markdown",
   "metadata": {},
   "source": [
    "### Add noise"
   ]
  },
  {
   "cell_type": "code",
   "execution_count": 13,
   "metadata": {},
   "outputs": [],
   "source": [
    "random.seed(49)"
   ]
  },
  {
   "cell_type": "code",
   "execution_count": 14,
   "metadata": {},
   "outputs": [],
   "source": [
    "X['noise1'] = [random.random() for x in range(0, len(X))]\n",
    "X['noise2'] = [random.random() for x in range(0, len(X))]\n",
    "X['noise3'] = [random.random() for x in range(0, len(X))]"
   ]
  },
  {
   "cell_type": "code",
   "execution_count": 15,
   "metadata": {},
   "outputs": [
    {
     "data": {
      "text/html": [
       "<table class=\"simpletable\">\n",
       "<caption>OLS Regression Results</caption>\n",
       "<tr>\n",
       "  <th>Dep. Variable:</th>         <td>salary</td>      <th>  R-squared:         </th> <td>   0.949</td>\n",
       "</tr>\n",
       "<tr>\n",
       "  <th>Model:</th>                   <td>OLS</td>       <th>  Adj. R-squared:    </th> <td>   0.947</td>\n",
       "</tr>\n",
       "<tr>\n",
       "  <th>Method:</th>             <td>Least Squares</td>  <th>  F-statistic:       </th> <td>   353.3</td>\n",
       "</tr>\n",
       "<tr>\n",
       "  <th>Date:</th>             <td>Thu, 22 Feb 2024</td> <th>  Prob (F-statistic):</th> <td>2.70e-59</td>\n",
       "</tr>\n",
       "<tr>\n",
       "  <th>Time:</th>                 <td>09:49:00</td>     <th>  Log-Likelihood:    </th> <td> -191.96</td>\n",
       "</tr>\n",
       "<tr>\n",
       "  <th>No. Observations:</th>      <td>   100</td>      <th>  AIC:               </th> <td>   395.9</td>\n",
       "</tr>\n",
       "<tr>\n",
       "  <th>Df Residuals:</th>          <td>    94</td>      <th>  BIC:               </th> <td>   411.5</td>\n",
       "</tr>\n",
       "<tr>\n",
       "  <th>Df Model:</th>              <td>     5</td>      <th>                     </th>     <td> </td>   \n",
       "</tr>\n",
       "<tr>\n",
       "  <th>Covariance Type:</th>      <td>nonrobust</td>    <th>                     </th>     <td> </td>   \n",
       "</tr>\n",
       "</table>\n",
       "<table class=\"simpletable\">\n",
       "<tr>\n",
       "      <td></td>         <th>coef</th>     <th>std err</th>      <th>t</th>      <th>P>|t|</th>  <th>[0.025</th>    <th>0.975]</th>  \n",
       "</tr>\n",
       "<tr>\n",
       "  <th>const</th>     <td> -191.1437</td> <td>   24.013</td> <td>   -7.960</td> <td> 0.000</td> <td> -238.822</td> <td> -143.465</td>\n",
       "</tr>\n",
       "<tr>\n",
       "  <th>year</th>      <td>    0.1056</td> <td>    0.012</td> <td>    8.782</td> <td> 0.000</td> <td>    0.082</td> <td>    0.129</td>\n",
       "</tr>\n",
       "<tr>\n",
       "  <th>bachelors</th> <td>   13.8344</td> <td>    0.346</td> <td>   39.961</td> <td> 0.000</td> <td>   13.147</td> <td>   14.522</td>\n",
       "</tr>\n",
       "<tr>\n",
       "  <th>noise1</th>    <td>   -0.4334</td> <td>    0.641</td> <td>   -0.676</td> <td> 0.501</td> <td>   -1.706</td> <td>    0.839</td>\n",
       "</tr>\n",
       "<tr>\n",
       "  <th>noise2</th>    <td>    0.8957</td> <td>    0.559</td> <td>    1.602</td> <td> 0.112</td> <td>   -0.214</td> <td>    2.005</td>\n",
       "</tr>\n",
       "<tr>\n",
       "  <th>noise3</th>    <td>    1.9654</td> <td>    0.624</td> <td>    3.148</td> <td> 0.002</td> <td>    0.726</td> <td>    3.205</td>\n",
       "</tr>\n",
       "</table>\n",
       "<table class=\"simpletable\">\n",
       "<tr>\n",
       "  <th>Omnibus:</th>       <td> 2.834</td> <th>  Durbin-Watson:     </th> <td>   0.320</td>\n",
       "</tr>\n",
       "<tr>\n",
       "  <th>Prob(Omnibus):</th> <td> 0.242</td> <th>  Jarque-Bera (JB):  </th> <td>   2.717</td>\n",
       "</tr>\n",
       "<tr>\n",
       "  <th>Skew:</th>          <td> 0.339</td> <th>  Prob(JB):          </th> <td>   0.257</td>\n",
       "</tr>\n",
       "<tr>\n",
       "  <th>Kurtosis:</th>      <td> 2.561</td> <th>  Cond. No.          </th> <td>2.82e+05</td>\n",
       "</tr>\n",
       "</table><br/><br/>Notes:<br/>[1] Standard Errors assume that the covariance matrix of the errors is correctly specified.<br/>[2] The condition number is large, 2.82e+05. This might indicate that there are<br/>strong multicollinearity or other numerical problems."
      ],
      "text/plain": [
       "<class 'statsmodels.iolib.summary.Summary'>\n",
       "\"\"\"\n",
       "                            OLS Regression Results                            \n",
       "==============================================================================\n",
       "Dep. Variable:                 salary   R-squared:                       0.949\n",
       "Model:                            OLS   Adj. R-squared:                  0.947\n",
       "Method:                 Least Squares   F-statistic:                     353.3\n",
       "Date:                Thu, 22 Feb 2024   Prob (F-statistic):           2.70e-59\n",
       "Time:                        09:49:00   Log-Likelihood:                -191.96\n",
       "No. Observations:                 100   AIC:                             395.9\n",
       "Df Residuals:                      94   BIC:                             411.5\n",
       "Df Model:                           5                                         \n",
       "Covariance Type:            nonrobust                                         \n",
       "==============================================================================\n",
       "                 coef    std err          t      P>|t|      [0.025      0.975]\n",
       "------------------------------------------------------------------------------\n",
       "const       -191.1437     24.013     -7.960      0.000    -238.822    -143.465\n",
       "year           0.1056      0.012      8.782      0.000       0.082       0.129\n",
       "bachelors     13.8344      0.346     39.961      0.000      13.147      14.522\n",
       "noise1        -0.4334      0.641     -0.676      0.501      -1.706       0.839\n",
       "noise2         0.8957      0.559      1.602      0.112      -0.214       2.005\n",
       "noise3         1.9654      0.624      3.148      0.002       0.726       3.205\n",
       "==============================================================================\n",
       "Omnibus:                        2.834   Durbin-Watson:                   0.320\n",
       "Prob(Omnibus):                  0.242   Jarque-Bera (JB):                2.717\n",
       "Skew:                           0.339   Prob(JB):                        0.257\n",
       "Kurtosis:                       2.561   Cond. No.                     2.82e+05\n",
       "==============================================================================\n",
       "\n",
       "Notes:\n",
       "[1] Standard Errors assume that the covariance matrix of the errors is correctly specified.\n",
       "[2] The condition number is large, 2.82e+05. This might indicate that there are\n",
       "strong multicollinearity or other numerical problems.\n",
       "\"\"\""
      ]
     },
     "execution_count": 15,
     "metadata": {},
     "output_type": "execute_result"
    }
   ],
   "source": [
    "model = sm.OLS(Y, X)\n",
    "model_result = model.fit()\n",
    "model_result.summary()"
   ]
  },
  {
   "cell_type": "code",
   "execution_count": null,
   "metadata": {},
   "outputs": [],
   "source": []
  }
 ],
 "metadata": {
  "kernelspec": {
   "display_name": "Python 3",
   "language": "python",
   "name": "python3"
  }
 },
 "nbformat": 4,
 "nbformat_minor": 5
}
