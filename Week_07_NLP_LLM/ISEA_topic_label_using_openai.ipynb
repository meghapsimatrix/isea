{
 "cells": [
  {
   "cell_type": "markdown",
   "metadata": {
    "id": "JLEFr8mYS8Wu"
   },
   "source": [
    "## Qualitative coding using openai\n",
    "\n",
    "- Prompt 1 (Zero shot):input the entire codebook, including a table that has parent code, parent code description, child code, and child code description; use the GPT to label both child and parent code for each document; if non child code work, just label the parent code.\n",
    "\n",
    "- Prompt 2 (Chain of thoughts):  Step 1: label all parent codes with reasoning; Step 2; label child code within each parent code. if none of the child code work, just keep the parent code."
   ]
  },
  {
   "cell_type": "code",
   "execution_count": 1,
   "metadata": {
    "colab": {
     "base_uri": "https://localhost:8080/"
    },
    "id": "tC8Ks9Yio3V3",
    "outputId": "5fbb6f68-ff57-4c6c-e9c0-dfc8adc9fd23"
   },
   "outputs": [
    {
     "name": "stdout",
     "output_type": "stream",
     "text": [
      "Collecting langchain==0.0.316\n",
      "  Obtaining dependency information for langchain==0.0.316 from https://files.pythonhosted.org/packages/cb/58/27830eb8bdcfabc2ec9ce2fef4e9d4fda5ce7c886f6b5be18d2ee365e603/langchain-0.0.316-py3-none-any.whl.metadata\n",
      "  Downloading langchain-0.0.316-py3-none-any.whl.metadata (15 kB)\n",
      "Requirement already satisfied: PyYAML>=5.3 in /Users/meghajoshi/anaconda3/lib/python3.11/site-packages (from langchain==0.0.316) (6.0)\n",
      "Requirement already satisfied: SQLAlchemy<3,>=1.4 in /Users/meghajoshi/anaconda3/lib/python3.11/site-packages (from langchain==0.0.316) (1.4.39)\n",
      "Requirement already satisfied: aiohttp<4.0.0,>=3.8.3 in /Users/meghajoshi/anaconda3/lib/python3.11/site-packages (from langchain==0.0.316) (3.8.5)\n",
      "Requirement already satisfied: anyio<4.0 in /Users/meghajoshi/anaconda3/lib/python3.11/site-packages (from langchain==0.0.316) (3.5.0)\n",
      "Collecting dataclasses-json<0.7,>=0.5.7 (from langchain==0.0.316)\n",
      "  Obtaining dependency information for dataclasses-json<0.7,>=0.5.7 from https://files.pythonhosted.org/packages/91/ca/7219b838086086972e662c19e908694bdc6744537fb41b70392501b8b5e4/dataclasses_json-0.6.4-py3-none-any.whl.metadata\n",
      "  Downloading dataclasses_json-0.6.4-py3-none-any.whl.metadata (25 kB)\n",
      "Collecting jsonpatch<2.0,>=1.33 (from langchain==0.0.316)\n",
      "  Obtaining dependency information for jsonpatch<2.0,>=1.33 from https://files.pythonhosted.org/packages/73/07/02e16ed01e04a374e644b575638ec7987ae846d25ad97bcc9945a3ee4b0e/jsonpatch-1.33-py2.py3-none-any.whl.metadata\n",
      "  Downloading jsonpatch-1.33-py2.py3-none-any.whl.metadata (3.0 kB)\n",
      "Collecting langsmith<0.1.0,>=0.0.43 (from langchain==0.0.316)\n",
      "  Obtaining dependency information for langsmith<0.1.0,>=0.0.43 from https://files.pythonhosted.org/packages/97/cd/1c618f89d3fcbb375c99a3ea950bffba8a01862cc0f0ab5032dfb95e8d1e/langsmith-0.0.92-py3-none-any.whl.metadata\n",
      "  Downloading langsmith-0.0.92-py3-none-any.whl.metadata (9.9 kB)\n",
      "Requirement already satisfied: numpy<2,>=1 in /Users/meghajoshi/anaconda3/lib/python3.11/site-packages (from langchain==0.0.316) (1.24.3)\n",
      "Requirement already satisfied: pydantic<3,>=1 in /Users/meghajoshi/anaconda3/lib/python3.11/site-packages (from langchain==0.0.316) (1.10.8)\n",
      "Requirement already satisfied: requests<3,>=2 in /Users/meghajoshi/anaconda3/lib/python3.11/site-packages (from langchain==0.0.316) (2.31.0)\n",
      "Requirement already satisfied: tenacity<9.0.0,>=8.1.0 in /Users/meghajoshi/anaconda3/lib/python3.11/site-packages (from langchain==0.0.316) (8.2.2)\n",
      "Requirement already satisfied: attrs>=17.3.0 in /Users/meghajoshi/anaconda3/lib/python3.11/site-packages (from aiohttp<4.0.0,>=3.8.3->langchain==0.0.316) (22.1.0)\n",
      "Requirement already satisfied: charset-normalizer<4.0,>=2.0 in /Users/meghajoshi/anaconda3/lib/python3.11/site-packages (from aiohttp<4.0.0,>=3.8.3->langchain==0.0.316) (2.0.4)\n",
      "Requirement already satisfied: multidict<7.0,>=4.5 in /Users/meghajoshi/anaconda3/lib/python3.11/site-packages (from aiohttp<4.0.0,>=3.8.3->langchain==0.0.316) (6.0.2)\n",
      "Requirement already satisfied: async-timeout<5.0,>=4.0.0a3 in /Users/meghajoshi/anaconda3/lib/python3.11/site-packages (from aiohttp<4.0.0,>=3.8.3->langchain==0.0.316) (4.0.2)\n",
      "Requirement already satisfied: yarl<2.0,>=1.0 in /Users/meghajoshi/anaconda3/lib/python3.11/site-packages (from aiohttp<4.0.0,>=3.8.3->langchain==0.0.316) (1.8.1)\n",
      "Requirement already satisfied: frozenlist>=1.1.1 in /Users/meghajoshi/anaconda3/lib/python3.11/site-packages (from aiohttp<4.0.0,>=3.8.3->langchain==0.0.316) (1.3.3)\n",
      "Requirement already satisfied: aiosignal>=1.1.2 in /Users/meghajoshi/anaconda3/lib/python3.11/site-packages (from aiohttp<4.0.0,>=3.8.3->langchain==0.0.316) (1.2.0)\n",
      "Requirement already satisfied: idna>=2.8 in /Users/meghajoshi/anaconda3/lib/python3.11/site-packages (from anyio<4.0->langchain==0.0.316) (3.4)\n",
      "Requirement already satisfied: sniffio>=1.1 in /Users/meghajoshi/anaconda3/lib/python3.11/site-packages (from anyio<4.0->langchain==0.0.316) (1.2.0)\n",
      "Collecting marshmallow<4.0.0,>=3.18.0 (from dataclasses-json<0.7,>=0.5.7->langchain==0.0.316)\n",
      "  Obtaining dependency information for marshmallow<4.0.0,>=3.18.0 from https://files.pythonhosted.org/packages/38/04/37055b7013dfaaf66e3a9a51e46857cc9be151476a891b995fa70da7e139/marshmallow-3.21.1-py3-none-any.whl.metadata\n",
      "  Downloading marshmallow-3.21.1-py3-none-any.whl.metadata (7.2 kB)\n",
      "Collecting typing-inspect<1,>=0.4.0 (from dataclasses-json<0.7,>=0.5.7->langchain==0.0.316)\n",
      "  Obtaining dependency information for typing-inspect<1,>=0.4.0 from https://files.pythonhosted.org/packages/65/f3/107a22063bf27bdccf2024833d3445f4eea42b2e598abfbd46f6a63b6cb0/typing_inspect-0.9.0-py3-none-any.whl.metadata\n",
      "  Downloading typing_inspect-0.9.0-py3-none-any.whl.metadata (1.5 kB)\n",
      "Requirement already satisfied: jsonpointer>=1.9 in /Users/meghajoshi/anaconda3/lib/python3.11/site-packages (from jsonpatch<2.0,>=1.33->langchain==0.0.316) (2.1)\n",
      "Requirement already satisfied: typing-extensions>=4.2.0 in /Users/meghajoshi/anaconda3/lib/python3.11/site-packages (from pydantic<3,>=1->langchain==0.0.316) (4.10.0)\n",
      "Requirement already satisfied: urllib3<3,>=1.21.1 in /Users/meghajoshi/anaconda3/lib/python3.11/site-packages (from requests<3,>=2->langchain==0.0.316) (1.26.16)\n",
      "Requirement already satisfied: certifi>=2017.4.17 in /Users/meghajoshi/anaconda3/lib/python3.11/site-packages (from requests<3,>=2->langchain==0.0.316) (2023.7.22)\n",
      "Requirement already satisfied: greenlet!=0.4.17 in /Users/meghajoshi/anaconda3/lib/python3.11/site-packages (from SQLAlchemy<3,>=1.4->langchain==0.0.316) (2.0.1)\n",
      "Requirement already satisfied: packaging>=17.0 in /Users/meghajoshi/anaconda3/lib/python3.11/site-packages (from marshmallow<4.0.0,>=3.18.0->dataclasses-json<0.7,>=0.5.7->langchain==0.0.316) (23.1)\n",
      "Requirement already satisfied: mypy-extensions>=0.3.0 in /Users/meghajoshi/anaconda3/lib/python3.11/site-packages (from typing-inspect<1,>=0.4.0->dataclasses-json<0.7,>=0.5.7->langchain==0.0.316) (1.0.0)\n",
      "Downloading langchain-0.0.316-py3-none-any.whl (1.9 MB)\n",
      "\u001b[2K   \u001b[90m━━━━━━━━━━━━━━━━━━━━━━━━━━━━━━━━━━━━━━━━\u001b[0m \u001b[32m1.9/1.9 MB\u001b[0m \u001b[31m4.7 MB/s\u001b[0m eta \u001b[36m0:00:00\u001b[0m00:01\u001b[0m00:01\u001b[0m\n",
      "\u001b[?25hDownloading dataclasses_json-0.6.4-py3-none-any.whl (28 kB)\n",
      "Downloading jsonpatch-1.33-py2.py3-none-any.whl (12 kB)\n",
      "Downloading langsmith-0.0.92-py3-none-any.whl (56 kB)\n",
      "\u001b[2K   \u001b[90m━━━━━━━━━━━━━━━━━━━━━━━━━━━━━━━━━━━━━━━━\u001b[0m \u001b[32m56.5/56.5 kB\u001b[0m \u001b[31m1.5 MB/s\u001b[0m eta \u001b[36m0:00:00\u001b[0m\n",
      "\u001b[?25hDownloading marshmallow-3.21.1-py3-none-any.whl (49 kB)\n",
      "\u001b[2K   \u001b[90m━━━━━━━━━━━━━━━━━━━━━━━━━━━━━━━━━━━━━━━━\u001b[0m \u001b[32m49.4/49.4 kB\u001b[0m \u001b[31m2.0 MB/s\u001b[0m eta \u001b[36m0:00:00\u001b[0m\n",
      "\u001b[?25hDownloading typing_inspect-0.9.0-py3-none-any.whl (8.8 kB)\n",
      "Installing collected packages: typing-inspect, marshmallow, jsonpatch, langsmith, dataclasses-json, langchain\n",
      "  Attempting uninstall: jsonpatch\n",
      "    Found existing installation: jsonpatch 1.32\n",
      "    Uninstalling jsonpatch-1.32:\n",
      "      Successfully uninstalled jsonpatch-1.32\n",
      "Successfully installed dataclasses-json-0.6.4 jsonpatch-1.33 langchain-0.0.316 langsmith-0.0.92 marshmallow-3.21.1 typing-inspect-0.9.0\n",
      "Collecting openai==0.28.1\n",
      "  Obtaining dependency information for openai==0.28.1 from https://files.pythonhosted.org/packages/1e/9f/385c25502f437686e4aa715969e5eaf5c2cb5e5ffa7c5cdd52f3c6ae967a/openai-0.28.1-py3-none-any.whl.metadata\n",
      "  Downloading openai-0.28.1-py3-none-any.whl.metadata (11 kB)\n",
      "Requirement already satisfied: requests>=2.20 in /Users/meghajoshi/anaconda3/lib/python3.11/site-packages (from openai==0.28.1) (2.31.0)\n",
      "Requirement already satisfied: tqdm in /Users/meghajoshi/anaconda3/lib/python3.11/site-packages (from openai==0.28.1) (4.65.0)\n",
      "Requirement already satisfied: aiohttp in /Users/meghajoshi/anaconda3/lib/python3.11/site-packages (from openai==0.28.1) (3.8.5)\n",
      "Requirement already satisfied: charset-normalizer<4,>=2 in /Users/meghajoshi/anaconda3/lib/python3.11/site-packages (from requests>=2.20->openai==0.28.1) (2.0.4)\n",
      "Requirement already satisfied: idna<4,>=2.5 in /Users/meghajoshi/anaconda3/lib/python3.11/site-packages (from requests>=2.20->openai==0.28.1) (3.4)\n",
      "Requirement already satisfied: urllib3<3,>=1.21.1 in /Users/meghajoshi/anaconda3/lib/python3.11/site-packages (from requests>=2.20->openai==0.28.1) (1.26.16)\n",
      "Requirement already satisfied: certifi>=2017.4.17 in /Users/meghajoshi/anaconda3/lib/python3.11/site-packages (from requests>=2.20->openai==0.28.1) (2023.7.22)\n"
     ]
    },
    {
     "name": "stdout",
     "output_type": "stream",
     "text": [
      "Requirement already satisfied: attrs>=17.3.0 in /Users/meghajoshi/anaconda3/lib/python3.11/site-packages (from aiohttp->openai==0.28.1) (22.1.0)\n",
      "Requirement already satisfied: multidict<7.0,>=4.5 in /Users/meghajoshi/anaconda3/lib/python3.11/site-packages (from aiohttp->openai==0.28.1) (6.0.2)\n",
      "Requirement already satisfied: async-timeout<5.0,>=4.0.0a3 in /Users/meghajoshi/anaconda3/lib/python3.11/site-packages (from aiohttp->openai==0.28.1) (4.0.2)\n",
      "Requirement already satisfied: yarl<2.0,>=1.0 in /Users/meghajoshi/anaconda3/lib/python3.11/site-packages (from aiohttp->openai==0.28.1) (1.8.1)\n",
      "Requirement already satisfied: frozenlist>=1.1.1 in /Users/meghajoshi/anaconda3/lib/python3.11/site-packages (from aiohttp->openai==0.28.1) (1.3.3)\n",
      "Requirement already satisfied: aiosignal>=1.1.2 in /Users/meghajoshi/anaconda3/lib/python3.11/site-packages (from aiohttp->openai==0.28.1) (1.2.0)\n",
      "Downloading openai-0.28.1-py3-none-any.whl (76 kB)\n",
      "\u001b[2K   \u001b[90m━━━━━━━━━━━━━━━━━━━━━━━━━━━━━━━━━━━━━━━━\u001b[0m \u001b[32m77.0/77.0 kB\u001b[0m \u001b[31m2.2 MB/s\u001b[0m eta \u001b[36m0:00:00\u001b[0m\n",
      "\u001b[?25hInstalling collected packages: openai\n",
      "  Attempting uninstall: openai\n",
      "    Found existing installation: openai 1.13.3\n",
      "    Uninstalling openai-1.13.3:\n",
      "      Successfully uninstalled openai-1.13.3\n",
      "Successfully installed openai-0.28.1\n"
     ]
    }
   ],
   "source": [
    "# install openai library\n",
    "#pip install openai\n",
    "!pip install langchain==0.0.316\n",
    "!pip install openai==0.28.1"
   ]
  },
  {
   "cell_type": "code",
   "execution_count": 2,
   "metadata": {
    "id": "snJSYeRH2NZ-"
   },
   "outputs": [],
   "source": [
    "import pandas as pd\n",
    "import openai\n",
    "import os\n",
    "import ast\n",
    "import time\n",
    "import numpy as np\n",
    "import json\n",
    "from IPython.display import clear_output\n",
    "from tqdm import tqdm"
   ]
  },
  {
   "cell_type": "code",
   "execution_count": null,
   "metadata": {
    "id": "JKb_wsgh5K5o"
   },
   "outputs": [],
   "source": [
    "tqdm.pandas()"
   ]
  },
  {
   "cell_type": "code",
   "execution_count": null,
   "metadata": {
    "colab": {
     "base_uri": "https://localhost:8080/"
    },
    "id": "EIVlyZ3-7rzC",
    "outputId": "0c5bb0e4-1fcb-4c15-b174-848aabc2f55b"
   },
   "outputs": [
    {
     "name": "stdout",
     "output_type": "stream",
     "text": [
      "Drive already mounted at /content/drive; to attempt to forcibly remount, call drive.mount(\"/content/drive\", force_remount=True).\n"
     ]
    }
   ],
   "source": [
    "# Set work directory\n",
    "from google.colab import drive\n",
    "drive.mount('/content/drive')"
   ]
  },
  {
   "cell_type": "code",
   "execution_count": null,
   "metadata": {
    "id": "Y_Wxtjvu5ah6"
   },
   "outputs": [],
   "source": [
    "# Import text data\n",
    "df = pd.read_csv('/content/drive/My Drive/Colab Notebooks/Ballmer/data/coded_3nd_qual_sentiment.csv', index_col = 0)"
   ]
  },
  {
   "cell_type": "code",
   "execution_count": null,
   "metadata": {
    "id": "xWsNEKdV2ipD"
   },
   "outputs": [],
   "source": [
    "# Import codebook\n",
    "codebook = pd.read_csv('/content/drive/My Drive/Colab Notebooks/Ballmer/data/codebook.csv')"
   ]
  },
  {
   "cell_type": "code",
   "execution_count": null,
   "metadata": {
    "colab": {
     "base_uri": "https://localhost:8080/",
     "height": 53
    },
    "id": "QBrRhbUK5aki",
    "outputId": "45b488d4-d670-4ae2-8bf3-6c10cfa1037d"
   },
   "outputs": [
    {
     "data": {
      "application/vnd.google.colaboratory.intrinsic+json": {
       "type": "string"
      },
      "text/plain": [
       "'I know that my field, the area of my expertise is really in language development and working with students who are learning English as a new language, and so I feel a lot of frustration around local policies in terms of equity around our multilingual learners. For me, that is the world that I tried to use advocacy in my local district for, and have not seen significant changes in many years.'"
      ]
     },
     "execution_count": 10,
     "metadata": {},
     "output_type": "execute_result"
    }
   ],
   "source": [
    "# Example text for GPT to label\n",
    "df['documents'].iloc[10]"
   ]
  },
  {
   "cell_type": "code",
   "execution_count": null,
   "metadata": {
    "colab": {
     "base_uri": "https://localhost:8080/",
     "height": 206
    },
    "id": "bh9F7i18pJ_T",
    "outputId": "8597dafc-3d61-40fb-bad8-b05eff18e6d1"
   },
   "outputs": [
    {
     "data": {
      "application/vnd.google.colaboratory.intrinsic+json": {
       "summary": "{\n  \"name\": \"codebook\",\n  \"rows\": 28,\n  \"fields\": [\n    {\n      \"column\": \"Topic\",\n      \"properties\": {\n        \"dtype\": \"string\",\n        \"num_unique_values\": 26,\n        \"samples\": [\n          \"30\",\n          \"18\",\n          \"23\"\n        ],\n        \"semantic_type\": \"\",\n        \"description\": \"\"\n      }\n    },\n    {\n      \"column\": \"Parent\",\n      \"properties\": {\n        \"dtype\": \"category\",\n        \"num_unique_values\": 9,\n        \"samples\": [\n          \"Student supports and interventions\",\n          \"Curriculum and instruction\",\n          \"Staffing resources: Any mention related to how state and districts decide or influence the ways staff, train, retain, and support any teacher, paraeducator, school or district leader.\"\n        ],\n        \"semantic_type\": \"\",\n        \"description\": \"\"\n      }\n    },\n    {\n      \"column\": \"Child\",\n      \"properties\": {\n        \"dtype\": \"string\",\n        \"num_unique_values\": 28,\n        \"samples\": [\n          \"Local control and district policies and politics\",\n          \"Learning opportunities and programs\",\n          \"Data capacity\"\n        ],\n        \"semantic_type\": \"\",\n        \"description\": \"\"\n      }\n    },\n    {\n      \"column\": \"Child_description\",\n      \"properties\": {\n        \"dtype\": \"string\",\n        \"num_unique_values\": 28,\n        \"samples\": [\n          \"District decision making, accountability and compliance, under local control, and district engagement with community and parents\",\n          \"Learning opportunities in schools, and tribal and native education\",\n          \"Related to capacity of individuals, groups or organizations to process data and information and conduct research of any kind for any purpose\"\n        ],\n        \"semantic_type\": \"\",\n        \"description\": \"\"\n      }\n    },\n    {\n      \"column\": \"Agreed rating\",\n      \"properties\": {\n        \"dtype\": \"number\",\n        \"std\": 0.4453463071962463,\n        \"min\": 3.0,\n        \"max\": 4.0,\n        \"num_unique_values\": 3,\n        \"samples\": [\n          4.0,\n          3.0,\n          3.5\n        ],\n        \"semantic_type\": \"\",\n        \"description\": \"\"\n      }\n    },\n    {\n      \"column\": \"Min's Original Coherence rating\",\n      \"properties\": {\n        \"dtype\": \"number\",\n        \"std\": 0.47871355387816905,\n        \"min\": 3.0,\n        \"max\": 4.0,\n        \"num_unique_values\": 3,\n        \"samples\": [\n          4.0,\n          3.0,\n          3.5\n        ],\n        \"semantic_type\": \"\",\n        \"description\": \"\"\n      }\n    },\n    {\n      \"column\": \"Key words\",\n      \"properties\": {\n        \"dtype\": \"string\",\n        \"num_unique_values\": 28,\n        \"samples\": [\n          \"budget, school-board, decis, sometim, make, stakehold, member, director, engag, power, superintend, process, polit, chang, allow, piec, toward, along, act, district \",\n          \"leav, opportun, year, differ, five, nativ, tribe, type, offic, back, time, last, far, legisl, whole, curriculum, open, everybodi, longer, earlier \",\n          \"data, resources, state, access, learning, research, organizations, agencies, capacity, digital, analysis, trends, support, universities, questions, information, community, school, finance, equity.\"\n        ],\n        \"semantic_type\": \"\",\n        \"description\": \"\"\n      }\n    }\n  ]\n}",
       "type": "dataframe",
       "variable_name": "codebook"
      },
      "text/html": [
       "\n",
       "  <div id=\"df-733a02be-aef2-4df4-a93b-6bc86156d25e\" class=\"colab-df-container\">\n",
       "    <div>\n",
       "<style scoped>\n",
       "    .dataframe tbody tr th:only-of-type {\n",
       "        vertical-align: middle;\n",
       "    }\n",
       "\n",
       "    .dataframe tbody tr th {\n",
       "        vertical-align: top;\n",
       "    }\n",
       "\n",
       "    .dataframe thead th {\n",
       "        text-align: right;\n",
       "    }\n",
       "</style>\n",
       "<table border=\"1\" class=\"dataframe\">\n",
       "  <thead>\n",
       "    <tr style=\"text-align: right;\">\n",
       "      <th></th>\n",
       "      <th>Topic</th>\n",
       "      <th>Parent</th>\n",
       "      <th>Child</th>\n",
       "      <th>Child_description</th>\n",
       "      <th>Agreed rating</th>\n",
       "      <th>Min's Original Coherence rating</th>\n",
       "      <th>Key words</th>\n",
       "    </tr>\n",
       "  </thead>\n",
       "  <tbody>\n",
       "    <tr>\n",
       "      <th>0</th>\n",
       "      <td>23</td>\n",
       "      <td>Culture, climate and environment</td>\n",
       "      <td>Trauma at home</td>\n",
       "      <td>Struggling home and family experiences of chil...</td>\n",
       "      <td>4.0</td>\n",
       "      <td>4.0</td>\n",
       "      <td>bad, kid, children, home, school, famili, grad...</td>\n",
       "    </tr>\n",
       "    <tr>\n",
       "      <th>1</th>\n",
       "      <td>14</td>\n",
       "      <td>Culture, climate and environment</td>\n",
       "      <td>Anti-racism</td>\n",
       "      <td>Talking about whiteness, success, and anti-racism</td>\n",
       "      <td>3.0</td>\n",
       "      <td>3.0</td>\n",
       "      <td>pull, white, child, success, stay, built, job,...</td>\n",
       "    </tr>\n",
       "    <tr>\n",
       "      <th>2</th>\n",
       "      <td>None</td>\n",
       "      <td>Curriculum and instruction</td>\n",
       "      <td>Instructional programs</td>\n",
       "      <td>AP/IB courses, college classes/credits in high...</td>\n",
       "      <td>NaN</td>\n",
       "      <td>NaN</td>\n",
       "      <td>Equity, Students, School, District, Policy, Da...</td>\n",
       "    </tr>\n",
       "    <tr>\n",
       "      <th>3</th>\n",
       "      <td>13</td>\n",
       "      <td>Curriculum and instruction</td>\n",
       "      <td>Curriculum development and instructional delivery</td>\n",
       "      <td>School curriculum development and instructiona...</td>\n",
       "      <td>3.0</td>\n",
       "      <td>3.0</td>\n",
       "      <td>onlin, teach, taught, teacher, high, learn, cl...</td>\n",
       "    </tr>\n",
       "    <tr>\n",
       "      <th>4</th>\n",
       "      <td>11</td>\n",
       "      <td>Data, evidence, and accountability</td>\n",
       "      <td>Data access, analysis, reporting, use, quality...</td>\n",
       "      <td>Data collection, access, analysis, and use to ...</td>\n",
       "      <td>4.0</td>\n",
       "      <td>4.0</td>\n",
       "      <td>dashboard, data, inform, assumess, collect, di...</td>\n",
       "    </tr>\n",
       "  </tbody>\n",
       "</table>\n",
       "</div>\n",
       "    <div class=\"colab-df-buttons\">\n",
       "\n",
       "  <div class=\"colab-df-container\">\n",
       "    <button class=\"colab-df-convert\" onclick=\"convertToInteractive('df-733a02be-aef2-4df4-a93b-6bc86156d25e')\"\n",
       "            title=\"Convert this dataframe to an interactive table.\"\n",
       "            style=\"display:none;\">\n",
       "\n",
       "  <svg xmlns=\"http://www.w3.org/2000/svg\" height=\"24px\" viewBox=\"0 -960 960 960\">\n",
       "    <path d=\"M120-120v-720h720v720H120Zm60-500h600v-160H180v160Zm220 220h160v-160H400v160Zm0 220h160v-160H400v160ZM180-400h160v-160H180v160Zm440 0h160v-160H620v160ZM180-180h160v-160H180v160Zm440 0h160v-160H620v160Z\"/>\n",
       "  </svg>\n",
       "    </button>\n",
       "\n",
       "  <style>\n",
       "    .colab-df-container {\n",
       "      display:flex;\n",
       "      gap: 12px;\n",
       "    }\n",
       "\n",
       "    .colab-df-convert {\n",
       "      background-color: #E8F0FE;\n",
       "      border: none;\n",
       "      border-radius: 50%;\n",
       "      cursor: pointer;\n",
       "      display: none;\n",
       "      fill: #1967D2;\n",
       "      height: 32px;\n",
       "      padding: 0 0 0 0;\n",
       "      width: 32px;\n",
       "    }\n",
       "\n",
       "    .colab-df-convert:hover {\n",
       "      background-color: #E2EBFA;\n",
       "      box-shadow: 0px 1px 2px rgba(60, 64, 67, 0.3), 0px 1px 3px 1px rgba(60, 64, 67, 0.15);\n",
       "      fill: #174EA6;\n",
       "    }\n",
       "\n",
       "    .colab-df-buttons div {\n",
       "      margin-bottom: 4px;\n",
       "    }\n",
       "\n",
       "    [theme=dark] .colab-df-convert {\n",
       "      background-color: #3B4455;\n",
       "      fill: #D2E3FC;\n",
       "    }\n",
       "\n",
       "    [theme=dark] .colab-df-convert:hover {\n",
       "      background-color: #434B5C;\n",
       "      box-shadow: 0px 1px 3px 1px rgba(0, 0, 0, 0.15);\n",
       "      filter: drop-shadow(0px 1px 2px rgba(0, 0, 0, 0.3));\n",
       "      fill: #FFFFFF;\n",
       "    }\n",
       "  </style>\n",
       "\n",
       "    <script>\n",
       "      const buttonEl =\n",
       "        document.querySelector('#df-733a02be-aef2-4df4-a93b-6bc86156d25e button.colab-df-convert');\n",
       "      buttonEl.style.display =\n",
       "        google.colab.kernel.accessAllowed ? 'block' : 'none';\n",
       "\n",
       "      async function convertToInteractive(key) {\n",
       "        const element = document.querySelector('#df-733a02be-aef2-4df4-a93b-6bc86156d25e');\n",
       "        const dataTable =\n",
       "          await google.colab.kernel.invokeFunction('convertToInteractive',\n",
       "                                                    [key], {});\n",
       "        if (!dataTable) return;\n",
       "\n",
       "        const docLinkHtml = 'Like what you see? Visit the ' +\n",
       "          '<a target=\"_blank\" href=https://colab.research.google.com/notebooks/data_table.ipynb>data table notebook</a>'\n",
       "          + ' to learn more about interactive tables.';\n",
       "        element.innerHTML = '';\n",
       "        dataTable['output_type'] = 'display_data';\n",
       "        await google.colab.output.renderOutput(dataTable, element);\n",
       "        const docLink = document.createElement('div');\n",
       "        docLink.innerHTML = docLinkHtml;\n",
       "        element.appendChild(docLink);\n",
       "      }\n",
       "    </script>\n",
       "  </div>\n",
       "\n",
       "\n",
       "<div id=\"df-3cd94552-45bd-4980-b54d-0a117a99066a\">\n",
       "  <button class=\"colab-df-quickchart\" onclick=\"quickchart('df-3cd94552-45bd-4980-b54d-0a117a99066a')\"\n",
       "            title=\"Suggest charts\"\n",
       "            style=\"display:none;\">\n",
       "\n",
       "<svg xmlns=\"http://www.w3.org/2000/svg\" height=\"24px\"viewBox=\"0 0 24 24\"\n",
       "     width=\"24px\">\n",
       "    <g>\n",
       "        <path d=\"M19 3H5c-1.1 0-2 .9-2 2v14c0 1.1.9 2 2 2h14c1.1 0 2-.9 2-2V5c0-1.1-.9-2-2-2zM9 17H7v-7h2v7zm4 0h-2V7h2v10zm4 0h-2v-4h2v4z\"/>\n",
       "    </g>\n",
       "</svg>\n",
       "  </button>\n",
       "\n",
       "<style>\n",
       "  .colab-df-quickchart {\n",
       "      --bg-color: #E8F0FE;\n",
       "      --fill-color: #1967D2;\n",
       "      --hover-bg-color: #E2EBFA;\n",
       "      --hover-fill-color: #174EA6;\n",
       "      --disabled-fill-color: #AAA;\n",
       "      --disabled-bg-color: #DDD;\n",
       "  }\n",
       "\n",
       "  [theme=dark] .colab-df-quickchart {\n",
       "      --bg-color: #3B4455;\n",
       "      --fill-color: #D2E3FC;\n",
       "      --hover-bg-color: #434B5C;\n",
       "      --hover-fill-color: #FFFFFF;\n",
       "      --disabled-bg-color: #3B4455;\n",
       "      --disabled-fill-color: #666;\n",
       "  }\n",
       "\n",
       "  .colab-df-quickchart {\n",
       "    background-color: var(--bg-color);\n",
       "    border: none;\n",
       "    border-radius: 50%;\n",
       "    cursor: pointer;\n",
       "    display: none;\n",
       "    fill: var(--fill-color);\n",
       "    height: 32px;\n",
       "    padding: 0;\n",
       "    width: 32px;\n",
       "  }\n",
       "\n",
       "  .colab-df-quickchart:hover {\n",
       "    background-color: var(--hover-bg-color);\n",
       "    box-shadow: 0 1px 2px rgba(60, 64, 67, 0.3), 0 1px 3px 1px rgba(60, 64, 67, 0.15);\n",
       "    fill: var(--button-hover-fill-color);\n",
       "  }\n",
       "\n",
       "  .colab-df-quickchart-complete:disabled,\n",
       "  .colab-df-quickchart-complete:disabled:hover {\n",
       "    background-color: var(--disabled-bg-color);\n",
       "    fill: var(--disabled-fill-color);\n",
       "    box-shadow: none;\n",
       "  }\n",
       "\n",
       "  .colab-df-spinner {\n",
       "    border: 2px solid var(--fill-color);\n",
       "    border-color: transparent;\n",
       "    border-bottom-color: var(--fill-color);\n",
       "    animation:\n",
       "      spin 1s steps(1) infinite;\n",
       "  }\n",
       "\n",
       "  @keyframes spin {\n",
       "    0% {\n",
       "      border-color: transparent;\n",
       "      border-bottom-color: var(--fill-color);\n",
       "      border-left-color: var(--fill-color);\n",
       "    }\n",
       "    20% {\n",
       "      border-color: transparent;\n",
       "      border-left-color: var(--fill-color);\n",
       "      border-top-color: var(--fill-color);\n",
       "    }\n",
       "    30% {\n",
       "      border-color: transparent;\n",
       "      border-left-color: var(--fill-color);\n",
       "      border-top-color: var(--fill-color);\n",
       "      border-right-color: var(--fill-color);\n",
       "    }\n",
       "    40% {\n",
       "      border-color: transparent;\n",
       "      border-right-color: var(--fill-color);\n",
       "      border-top-color: var(--fill-color);\n",
       "    }\n",
       "    60% {\n",
       "      border-color: transparent;\n",
       "      border-right-color: var(--fill-color);\n",
       "    }\n",
       "    80% {\n",
       "      border-color: transparent;\n",
       "      border-right-color: var(--fill-color);\n",
       "      border-bottom-color: var(--fill-color);\n",
       "    }\n",
       "    90% {\n",
       "      border-color: transparent;\n",
       "      border-bottom-color: var(--fill-color);\n",
       "    }\n",
       "  }\n",
       "</style>\n",
       "\n",
       "  <script>\n",
       "    async function quickchart(key) {\n",
       "      const quickchartButtonEl =\n",
       "        document.querySelector('#' + key + ' button');\n",
       "      quickchartButtonEl.disabled = true;  // To prevent multiple clicks.\n",
       "      quickchartButtonEl.classList.add('colab-df-spinner');\n",
       "      try {\n",
       "        const charts = await google.colab.kernel.invokeFunction(\n",
       "            'suggestCharts', [key], {});\n",
       "      } catch (error) {\n",
       "        console.error('Error during call to suggestCharts:', error);\n",
       "      }\n",
       "      quickchartButtonEl.classList.remove('colab-df-spinner');\n",
       "      quickchartButtonEl.classList.add('colab-df-quickchart-complete');\n",
       "    }\n",
       "    (() => {\n",
       "      let quickchartButtonEl =\n",
       "        document.querySelector('#df-3cd94552-45bd-4980-b54d-0a117a99066a button');\n",
       "      quickchartButtonEl.style.display =\n",
       "        google.colab.kernel.accessAllowed ? 'block' : 'none';\n",
       "    })();\n",
       "  </script>\n",
       "</div>\n",
       "    </div>\n",
       "  </div>\n"
      ],
      "text/plain": [
       "  Topic                              Parent  \\\n",
       "0    23    Culture, climate and environment   \n",
       "1    14    Culture, climate and environment   \n",
       "2  None          Curriculum and instruction   \n",
       "3    13          Curriculum and instruction   \n",
       "4    11  Data, evidence, and accountability   \n",
       "\n",
       "                                               Child  \\\n",
       "0                                    Trauma at home    \n",
       "1                                        Anti-racism   \n",
       "2                             Instructional programs   \n",
       "3  Curriculum development and instructional delivery   \n",
       "4  Data access, analysis, reporting, use, quality...   \n",
       "\n",
       "                                   Child_description  Agreed rating  \\\n",
       "0  Struggling home and family experiences of chil...            4.0   \n",
       "1  Talking about whiteness, success, and anti-racism            3.0   \n",
       "2  AP/IB courses, college classes/credits in high...            NaN   \n",
       "3  School curriculum development and instructiona...            3.0   \n",
       "4  Data collection, access, analysis, and use to ...            4.0   \n",
       "\n",
       "   Min's Original Coherence rating  \\\n",
       "0                              4.0   \n",
       "1                              3.0   \n",
       "2                              NaN   \n",
       "3                              3.0   \n",
       "4                              4.0   \n",
       "\n",
       "                                           Key words  \n",
       "0  bad, kid, children, home, school, famili, grad...  \n",
       "1  pull, white, child, success, stay, built, job,...  \n",
       "2  Equity, Students, School, District, Policy, Da...  \n",
       "3  onlin, teach, taught, teacher, high, learn, cl...  \n",
       "4  dashboard, data, inform, assumess, collect, di...  "
      ]
     },
     "execution_count": 11,
     "metadata": {},
     "output_type": "execute_result"
    }
   ],
   "source": [
    "# The codebook contains parent and child codes from which GPT selects.\n",
    "codebook.head()"
   ]
  },
  {
   "cell_type": "markdown",
   "metadata": {
    "id": "SBZMjCyp8n1m"
   },
   "source": [
    "## Label documents"
   ]
  },
  {
   "cell_type": "code",
   "execution_count": null,
   "metadata": {
    "id": "EQcKHRcb81c6"
   },
   "outputs": [],
   "source": [
    "openai.api_key = 'sk-'"
   ]
  },
  {
   "cell_type": "markdown",
   "metadata": {
    "id": "ur2PrkrY9Xh9"
   },
   "source": [
    "###*load functions*"
   ]
  },
  {
   "cell_type": "markdown",
   "metadata": {
    "id": "Ikf9j3CorYmr"
   },
   "source": [
    "send_to_api: This function is a robust way to interact with the OpenAI API, handling potential errors and retrying requests. The `temperature` parameter can be adjusted to alter the nature of the generated responses, with lower values leading to more predictable and conservative outputs."
   ]
  },
  {
   "cell_type": "code",
   "execution_count": null,
   "metadata": {
    "id": "rIEMFKpl7igu"
   },
   "outputs": [],
   "source": [
    "def send_to_api(prompt):\n",
    "    \"\"\"\n",
    "    This function sends a given prompt to OpenAI's API and retrieves the response.\n",
    "\n",
    "    Args:\n",
    "    prompt (str): A string containing the user's input that needs to be processed by the GPT model.\n",
    "\n",
    "    Returns:\n",
    "    result: The response from OpenAI's API or an error message if the request fails.\n",
    "    \"\"\"\n",
    "\n",
    "    # Initialize result to None, this will store the API response\n",
    "    result = None\n",
    "\n",
    "    # A loop to attempt the API call multiple times if necessary\n",
    "    i = 1\n",
    "    while result is None:\n",
    "        try:\n",
    "            # Making a request to OpenAI's ChatCompletion API\n",
    "            result = openai.ChatCompletion.create(\n",
    "                model=\"gpt-4\",  # Specifies the GPT model to use\n",
    "                messages=[\n",
    "                    {\"role\": \"user\", \"content\": prompt}  # The prompt or message for the GPT model\n",
    "                ],\n",
    "                temperature=0.5  # Sets the creativity of the response. Lower is more deterministic.\n",
    "            )\n",
    "\n",
    "        except openai.InvalidRequestError:\n",
    "            # If there is an invalid request, store an error message\n",
    "            result = \"InvalidRequestError\"\n",
    "        except:\n",
    "            # For other errors, wait for 1.5 seconds before retrying\n",
    "            time.sleep(1.5)\n",
    "            pass\n",
    "\n",
    "    # Return the API response or error message\n",
    "    return result"
   ]
  },
  {
   "cell_type": "code",
   "execution_count": null,
   "metadata": {
    "id": "oRBwxa-B9UFI"
   },
   "outputs": [],
   "source": [
    "def label_topic(doc_in):\n",
    "    \"\"\"\n",
    "    Labels the topic of a given document using OpenAI's GPT model.\n",
    "\n",
    "    Args:\n",
    "    doc_in (str): The document or text snippet for which the topic needs to be determined.\n",
    "\n",
    "    Returns:\n",
    "    current_response: The labeled topic as determined by the GPT model or an error message.\n",
    "    \"\"\"\n",
    "\n",
    "    # Create a prompt using the document input.\n",
    "    prompt = create_prompt(doc_in)\n",
    "\n",
    "    # Send the generated prompt to the OpenAI API and get a response.\n",
    "    response = send_to_api(prompt)\n",
    "\n",
    "    # Check if the response from the API is not an error.\n",
    "    if response != \"InvalidRequestError\":\n",
    "        current_response = response.choices[0].message.content\n",
    "    else:\n",
    "        current_response = response\n",
    "\n",
    "    return current_response"
   ]
  },
  {
   "cell_type": "markdown",
   "metadata": {
    "id": "J9KMOzLU82VH"
   },
   "source": [
    "### Prompt 1 (Zero shot):input the entire codebook, including a table that has parent code, parent code description, child code, and child code description; use the GPT to label both child and parent code for each document; if non child code work, just label the parent code."
   ]
  },
  {
   "cell_type": "markdown",
   "metadata": {
    "id": "APZxuPlnT8mz"
   },
   "source": [
    "#### Prompt archive"
   ]
  },
  {
   "cell_type": "code",
   "execution_count": null,
   "metadata": {
    "id": "hGg78XOp-x6a"
   },
   "outputs": [],
   "source": [
    "# prompt 0-0\n",
    "prompt_base = f\"\"\"\n",
    "You are provided with a paragraph from qualitative interviews and a codebook that contains parent and child codes for qualitative analysis. Each child code is associated with a description in the codebook.\n",
    "Please assist in performing qualitative coding for the paragraph from qualitative interviews based on the provided codebook. The codebook is in CSV format and contains four useful columns for this task: 'Parent', 'Child', 'Child_description' and 'Key words'.\n",
    "\n",
    "Here's how you should proceed:\n",
    "\n",
    "1. Review the codebook:\n",
    "   - The 'Parent' is a categorical label for the broader theme or category.\n",
    "   - The 'Child' is a categorical label for the detailed theme.\n",
    "   - The 'Child_description' provides a detailed description of what each child code in corresponding 'Child' represents.\n",
    "   - The 'Key words' provides high frequent words that are mentioned in a child code in 'Child'.\n",
    "\n",
    "2. For the paragraph from the qualitative interviews, assign a code from the codebook. Use the following steps:\n",
    "   a. Read the paragraph.\n",
    "   b. Refer to the codebook to find the most appropriate 'Parent', 'Child', and 'Child_description' for this paragraph.\n",
    "   c. Provide the 'Parent', 'Child', and 'Child_description' as labels for this paragraph.\n",
    "\n",
    "Here is a snippet from the codebook:\n",
    "{codebook}\n",
    "\n",
    "--- Paragraph to Label ---\n",
    "[TEXTGOHERE]\n",
    "\n",
    "Your task is to label the paragraph from the qualitative interviews based on the codes defined in the codebook. For each paragraph, identify the relevant parent code and child code from the codebook and provide a brief reasoning of why you selected that child code.\n",
    "Please ensure that the labels you assign accurately represent the content of the paragraph. If you are uncertain or if a paragraph does not fit any code from the codebook, please return 'None'.\n",
    "\n",
    "Format your response as a JSON object with 3 keys where\n",
    "“Parent code”, “Child code”, and “Reasoning” as the keys.\n",
    "\"\"\""
   ]
  },
  {
   "cell_type": "code",
   "execution_count": null,
   "metadata": {
    "id": "1qoTtwyj81lq"
   },
   "outputs": [],
   "source": [
    "# prompt 1\n",
    "prompt_base = f\"\"\"\n",
    "You are a policy researcher. You are provided with a Paragraph from a transcript of an interview with an education policy stakeholder.\n",
    "Your task is to performing qualitative coding for the Paragraph using the Codebook provided below. The Codebook contains four useful columns for this task: 'Parent', 'Child', 'Child_description' and 'Key words'.\n",
    "\n",
    "First, review the Codebook:\n",
    "   - 'Parent' column includes categorical labels for broader themes or categories.\n",
    "   - 'Child' column includes categorical labels for detailed themes, nested within corresponding 'Parent' categories.\n",
    "   - 'Child_description' column provides detailed descriptions of what corresponding 'Child' represents.\n",
    "   - 'Key words' column provides highly frequent words that are relevant to corresponding 'Child' categories.\n",
    "\n",
    "Second, using the Codebook, identify the top three most prevalient themes in each Paragraph by following the following steps:\n",
    "   a. Read the Paragraph and understand the meaning in the context of Washington State K-12 public school system;\n",
    "   b. Refer to the Codebook to identify three most salient themes emerge from the paragraph using 'Child' based on corresponding 'Child_description'; only when you cannot identify any appropriate child code, use the Parent. Show your reasoning behind your classifications;\n",
    "   c. If a Paragraph does not fit any Child and Parent category from the Codebook, please return 'None'.\n",
    "\n",
    "Here is the Codebook:\n",
    "{codebook}\n",
    "\n",
    "--- Paragraph ---\n",
    "[TEXTGOHERE]\n",
    "\n",
    "Format your response as a JSON object with 3 keys where\n",
    "“Theme 1”, “Theme 2”, “Theme 3” and “Reasoning” as the keys.\n",
    "\"\"\""
   ]
  },
  {
   "cell_type": "code",
   "execution_count": null,
   "metadata": {
    "id": "ybmLuuCtA2_U"
   },
   "outputs": [],
   "source": [
    "# prompt 1-0 remove keywords, up to 3, simplify steps\n",
    "prompt_base = f\"\"\"\n",
    "You are a policy researcher. You are provided with a Paragraph from a transcript of an interview with an education policy stakeholder.\n",
    "Your task is to use the Codebook in CSV format to code Paragraph from the interview transcript.\n",
    "\n",
    "First, review and understand the Codebook:\n",
    "   - 'Parent' column includes categorical labels for broader themes.\n",
    "   - 'Child' column includes categorical labels for subthemes, nested within corresponding 'Parent' categories.\n",
    "   - 'Child_description' column provides detailed descriptions of subcategories acco 'Child' represents.\n",
    "\n",
    "Second, using the Codebook, identify up to three the most salient themes in each Paragraph, which cover the most noticeable, central, important idea conveyed in the Paragraph, by following the following steps:\n",
    "   a. Read the Paragraph and understand the meaning in the context of Washington State K-12 public school system.\n",
    "   b. Identify up to three most salient themes from the 'Child' categories, based on 'Child_description'. ONLY if you could not identify an appropriate 'Child' categories, you can use the 'Parent' categories.\n",
    "   c. If a Paragraph does not fit any Child or Parent categories from the Codebook, return 'None'.\n",
    "   d. Review the identified themes, if they do not reflect the most salient themes of the Paragraph, repeat step a-c for 3 time maximum.\n",
    "   e. Provide the identified themes as labels for this Paragraph and show your reasoning behind your classifications.\n",
    "\n",
    "Here is the Codebook:\n",
    "{codebook}\n",
    "\n",
    "--- Paragraph ---\n",
    "[TEXTGOHERE]\n",
    "\n",
    "Format your response as a JSON object with 4 keys where\n",
    "“Theme 1”, “Theme 2”, “Theme 3” and “Reasoning” as the keys.\n",
    "\"\"\""
   ]
  },
  {
   "cell_type": "code",
   "execution_count": null,
   "metadata": {
    "id": "Ug_c6g768VoG"
   },
   "outputs": [],
   "source": [
    "# prompt 1-0 remove keywords, up to 3, simplify steps\n",
    "prompt_base1 = f\"\"\"\n",
    "You are a policy researcher. You are provided with a Paragraph from a transcript of an interview with an education policy stakeholder.\n",
    "Your task is to use the Codebook in CSV format to code Paragraph from the interview transcript.\n",
    "\n",
    "First, review the Codebook:\n",
    "   - 'Parent' column includes categorical labels for broader themes.\n",
    "   - 'Child' column includes categorical labels for detailed themes, nested within corresponding 'Parent' categories.\n",
    "   - 'Child_description' column provides detailed descriptions of what each child category in 'Child' represents.\n",
    "\n",
    "Second, using the Codebook, identify three most salient themes in each Paragraph, which cover the most noticeable, central, important idea conveyed in the Paragraph, by following the following steps:\n",
    "   a. Read the Paragraph and understand the meaning in the context of Washington State K-12 public school system.\n",
    "   b. Identify three most salient themes from the 'Child' categories, based on 'Child_description'. ONLY if you could not identify an appropriate 'Child' categories, you can use the 'Parent' categories.\n",
    "   c. Review the three identified themes, if they do not reflect the most salient themes of the Paragraph, repeat step a-b for 3 time maximum. If a Paragraph does not fit any Child or Parent categories from the Codebook, return 'None'.\n",
    "   d. Provide the identified themes as labels for this Paragraph and show your reasoning behind your classifications.\n",
    "\n",
    "Here is the Codebook:\n",
    "{codebook}\n",
    "\n",
    "--- Paragraph ---\n",
    "[TEXTGOHERE]\n",
    "\n",
    "Format your response as a JSON object with 4 keys where\n",
    "“Theme 1”, “Theme 2”, “Theme 3” and “Reasoning” as the keys.\n",
    "\"\"\""
   ]
  },
  {
   "cell_type": "code",
   "execution_count": null,
   "metadata": {
    "id": "nXfNaTmujDIb"
   },
   "outputs": [],
   "source": [
    "# v02\n",
    "prompt_base = f\"\"\"\n",
    "You are a policy researcher. You are provided with a Paragraph from a transcript of an interview with an education policy stakeholder.\n",
    "Your task is to use the Codebook in CSV format to code Paragraph from the interview transcript.\n",
    "\n",
    "First, review the Codebook:\n",
    "- 'Parent' column includes categorical labels for broader themes.\n",
    "- 'Child' column includes categorical labels for detailed themes, nested within corresponding 'Parent' categories.\n",
    "- 'Child_description' column provides detailed descriptions of what each child category in 'Child' represents.\n",
    "- 'Key words' column provides high-frequency words that are relevant to corresponding 'Child' categories.\n",
    "\n",
    "Second, using the Codebook, identify three most salient themes in each Paragraph, which cover the most noticeable, central, important idea conveyed in the Paragraph, by following the following steps:\n",
    "a. Read the Paragraph and understand the meaning in the context of Washington State K-12 public school system;\n",
    "b. Identify three of the most salient themes from the 'Child' categories, based on 'Child_description'; you can also refer to 'Key words'; ONLY if you could not identify an appropriate 'Child', you can use the 'Parent' categories. Provide the three identified themes as labels for this Paragraph and show your reasoning behind your classifications;\n",
    "c. Please ensure that the themes you identified accurately represent the content of the Paragraph; if a Paragraph does not fit any Child or Parent categories from the Codebook, return 'None'.\n",
    "\n",
    "Here is the Codebook:\n",
    "{codebook}\n",
    "\n",
    "--- Paragraph ---\n",
    "[TEXTGOHERE]\n",
    "\n",
    "Format your response as a JSON object with 4 keys where\n",
    "“Theme 1”, “Theme 2”, “Theme 3” and “Reasoning” as the keys.\n",
    "\"\"\"\n"
   ]
  },
  {
   "cell_type": "markdown",
   "metadata": {
    "id": "tLe8sQFl8ODP"
   },
   "source": [
    "#### Prompt in use"
   ]
  },
  {
   "cell_type": "code",
   "execution_count": null,
   "metadata": {
    "id": "wWRrcMUc8S15"
   },
   "outputs": [],
   "source": [
    "# v03\n",
    "prompt_base = f\"\"\"\n",
    "You are a policy researcher. You are provided with a Paragraph from a transcript of an interview with an education policy stakeholder.\n",
    "Your task is to use the Codebook in CSV format to code Paragraph from the interview transcript.\n",
    "\n",
    "\n",
    "First, review and learn the Codebook:\n",
    "- 'Parent' column includes short labels for broader themes or categories of ideas.\n",
    "- 'Child' column includes labels for subcategories of corresponding 'Parent' categories.\n",
    "- 'Child_description' column provides narrative descriptions of 'Child' categories.\n",
    "- 'Key words' column provides high-frequency words that are relevant to corresponding 'Child' categories.\n",
    "\n",
    "\n",
    "Second, using the Codebook, identify the top three most salient themes in each Paragraph by following the following steps:\n",
    "a. Read the Paragraph and understand the meaning in the context of the Washington State K-12 public school system.\n",
    "b. Identify the three most salient themes using the 'Child' categories based on 'Child_description'. You can also refer to 'Key words'. Only when you cannot identify an appropriate Child category, you can label the Paragraph by using the Parent categories.\n",
    "c. Provide the three identified themes as labels for this Paragraph and show your reasoning behind your classifications.\n",
    "c. Review and ensure that the themes you identified accurately represent the content of the Paragraph. If a Paragraph does not fit any Child or Parent category from the Codebook, return 'None'.\n",
    "\n",
    "\n",
    "Here is a snippet from the Codebook:\n",
    "{codebook}\n",
    "\n",
    "--- Paragraph ---\n",
    "[TEXTGOHERE]\n",
    "\n",
    "\n",
    "Format your response as a JSON object with 4 keys where\n",
    "“Theme 1”, “Theme 2”, “Theme 3” and “Reasoning” as the keys.\n",
    "\"\"\"\n"
   ]
  },
  {
   "cell_type": "code",
   "execution_count": null,
   "metadata": {
    "id": "cLu_HLfWu6lz"
   },
   "outputs": [],
   "source": [
    "# Select a subset of text to test prompt\n",
    "#random_rows = df.sample(n=50, random_state=2023)\n",
    "t = df.iloc[8:10, ]"
   ]
  },
  {
   "cell_type": "code",
   "execution_count": null,
   "metadata": {
    "id": "bOWA8ARLNDCS"
   },
   "outputs": [],
   "source": [
    "def create_prompt(doc_in):\n",
    "    return prompt_base.replace('TEXTGOHERE', doc_in)"
   ]
  },
  {
   "cell_type": "code",
   "execution_count": null,
   "metadata": {
    "colab": {
     "base_uri": "https://localhost:8080/"
    },
    "id": "DuRMfiM98TSI",
    "outputId": "8ab6ed6d-f3be-4f42-b3f9-56e6873359e0"
   },
   "outputs": [
    {
     "name": "stderr",
     "output_type": "stream",
     "text": [
      "100%|██████████| 2/2 [00:16<00:00,  8.36s/it]\n"
     ]
    }
   ],
   "source": [
    "output = []\n",
    "for index, row in tqdm(t.iterrows(), total = t.shape[0]):\n",
    "  codebook=codebook[['Parent', 'Child', 'Child_description', 'Key words']]\n",
    "  doc_in = row.documents # text column\n",
    "  output_current = label_topic(doc_in)\n",
    "  output.append(output_current)"
   ]
  },
  {
   "cell_type": "code",
   "execution_count": null,
   "metadata": {
    "colab": {
     "base_uri": "https://localhost:8080/"
    },
    "id": "73mEZvnGVSfH",
    "outputId": "479d272b-61c9-4a64-8a4a-f12e812fff55"
   },
   "outputs": [
    {
     "name": "stdout",
     "output_type": "stream",
     "text": [
      "{\n",
      "  \"Theme 1\": \"Mentoring, coaching, and teacher learning\",\n",
      "  \"Theme 2\": \"Instructional programs\",\n",
      "  \"Theme 3\": \"Curriculum development and instructional delivery\",\n",
      "  \"Reasoning\": \"The paragraph discusses the challenges faced by new teachers who didn't have the opportunity to gain student teaching experience. This relates to the 'Mentoring, coaching, and teacher learning' theme because it's about providing support and learning opportunities for new teachers. The mention of teachers being inside a classroom for the first time also touches on 'Instructional programs' and 'Curriculum development and instructional delivery' as they are expected to deliver curriculum and instruction for the first time.\"\n",
      "}\n"
     ]
    }
   ],
   "source": [
    "print(output[0])"
   ]
  },
  {
   "cell_type": "markdown",
   "metadata": {
    "id": "5dPWGezKMtNw"
   },
   "source": [
    "### Prompt 2 (Chain of thought): Step 1: label all parent codes with reasoning; Step 2; label child code within each parent code. if none of the child code work, just keep the parent code."
   ]
  },
  {
   "cell_type": "markdown",
   "metadata": {
    "id": "DYBg5tJsw_kr"
   },
   "source": [
    "#### Prompt archive"
   ]
  },
  {
   "cell_type": "code",
   "execution_count": null,
   "metadata": {
    "id": "QcaRJUT0M0mM"
   },
   "outputs": [],
   "source": [
    "prompt_base2 = f\"\"\"\n",
    "You are a policy researcher. You are provided with a Paragraph from a transcript of an interview with an education policy stakeholder.\n",
    "Your task is to use the Codebook in CSV format to code Paragraph from the interview transcript. The Codebook contains four columns: 'Parent', 'Child', 'Child_description' and 'Key words'.\n",
    "\n",
    "Here's how you should proceed:\n",
    "\n",
    "1. Review parent code in the Codebook:\n",
    "   - 'Parent' column includes categorical labels for broader themes or categories.\n",
    "\n",
    "2. Using the Codebook, identify up to three the most salient themes in each Paragraph, which should cover the most noticeable, central, important idea conveyed in the Paragraph, by following the following steps:\n",
    "   a. Read the Paragraph and understand the meaning in the context of Washington State K-12 public school system;\n",
    "   b. Identify up to three the most salient themes from the Parent categories.\n",
    "   c. Provide identified 'Parent' as label for this Paragraph.\n",
    "\n",
    "3. Review child code in the Codebook:\n",
    "   - 'Child' column includes categorical labels for detailed themes, nested within corresponding 'Parent' categories.\n",
    "   - 'Child_description' column provides detailed descriptions of what each child category in 'Child' represents.\n",
    "   - 'Key words' column provides highly frequent words that are relevant to corresponding 'Child' categories.\n",
    "\n",
    "4. Using the Codebook, within the an identified 'Parent' category, identify the most salient 'Child' categories. Use the following steps:\n",
    "   a. Read the Paragraph and understand the meaning in the context of Washington State K-12 public school system;\n",
    "   b. Refer to the Codebook, for each identified 'Parent' category, find the most appropriate subcategories from 'Child' for this Paragraph based on 'Child_description'. You can also refer to 'Key words'.\n",
    "   c. Please ensure that the 'Child' you assign accurately represent the content of the Paragraph. If you are uncertain or if a Paragraph does not fit any 'Child' categories from the Codebook, please return 'None'.\n",
    "   d. Review all identified 'Parent' and 'Child' pairs, select three pairs that represent the most noticeable, central, important idea conveyed in the Paragraph.\n",
    "   e. Provide identified three pairs of 'Parent' and their corresponding 'Child' as labels for this paragraph.\n",
    "\n",
    "Here is the Codebook:\n",
    "{codebook}\n",
    "\n",
    "--- Paragraph to Label ---\n",
    "[[[TEXTGOHERE]]]\n",
    "\n",
    "Format your response as a JSON object with 7 keys where\n",
    "'Parent 1', 'Child 1', 'Parent 2', 'Child 2', 'Parent3', 'Child 3', and 'Reasoning' as the keys.\n",
    "\"\"\""
   ]
  },
  {
   "cell_type": "code",
   "execution_count": null,
   "metadata": {
    "id": "ZfpnTLXCo6Wx"
   },
   "outputs": [],
   "source": [
    "prompt_base2_1 = f\"\"\"\n",
    "You are a policy researcher. You are provided with a Paragraph from a transcript of an interview with an education policy stakeholder.\n",
    "Your task is to use the Codebook in CSV format to code Paragraph from the interview transcript. The Codebook contains four columns: 'Parent', 'Child', 'Child_description' and 'Key words'.\n",
    "\n",
    "Here's how you should proceed:\n",
    "\n",
    "1. Using the Codebook, identify up to three the most salient themes in each Paragraph, which should cover the most noticeable, central, important idea conveyed in the Paragraph, by following the following steps:\n",
    "a. Read the Paragraph and understand the meaning in the context of Washington State K-12 public school system;\n",
    "b. Review Parent Code in the Codebook: ‘Parent’ column includes categorical labels for broader themes\n",
    "c. Identify up to three the most salient themes from the Parent categories.\n",
    "d. Provide identified 'Parent' as label for this Paragraph.\n",
    "\n",
    "2. Review child code in the Codebook:\n",
    "- 'Child' column includes categorical labels for detailed themes, nested within corresponding 'Parent' categories.\n",
    "- 'Child_description' column provides detailed descriptions of what each child category in 'Child' represents.\n",
    "- 'Key words' column provides highly frequent words that are relevant to corresponding 'Child' categories.\n",
    "\n",
    "3. Using the Codebook, within the an identified 'Parent' category, identify the most salient 'Child' categories. Use the following steps:\n",
    "a. Read the Paragraph and understand the meaning in the context of Washington State K-12 public school system;\n",
    "b. Refer to the Codebook, for each identified 'Parent' category, find the most appropriate subcategories from 'Child' for this Paragraph based on 'Child_description'. You can also refer to 'Key words'.\n",
    "c. Please ensure that the 'Child' you assign accurately represents the content of the Paragraph. If you are uncertain or if a Paragraph does not fit any 'Child' categories from the Codebook, please return 'None'.\n",
    "d. Review all identified 'Parent' and 'Child' pairs, select three pairs that represent the most noticeable, central, important idea conveyed in the Paragraph.\n",
    "e. Provide identified three 'Parent' and their corresponding 'Child' as labels for this paragraph.\n",
    "\n",
    "Here is the Codebook:\n",
    "{codebook}\n",
    "\n",
    "--- Paragraph to Label ---\n",
    "[[[TEXTGOHERE]]]\n",
    "\n",
    "Format your response as a JSON object with 7 keys where\n",
    "'Parent 1', 'Child 1', 'Parent 2', 'Child 2', 'Parent3', 'Child 3', and 'Reasoning' as the keys.\n",
    "\"\"\"\n"
   ]
  },
  {
   "cell_type": "markdown",
   "metadata": {
    "id": "yiCB7c70xD0R"
   },
   "source": [
    "#### Prompt in use"
   ]
  },
  {
   "cell_type": "code",
   "execution_count": null,
   "metadata": {
    "id": "hqunnZiBtR5_"
   },
   "outputs": [],
   "source": [
    "prompt_base2 = f\"\"\"\n",
    "Task: As a policy researcher, you’ve been provided with a paragraph extracted from an interview with an education policy stakeholder. Utilize the provided Codebook (in CSV format) to code the paragraph. The Codebook comprises four columns: ‘Parent’, ‘Child’, ‘Child_description’, and ‘Key words’.\n",
    "\n",
    "Steps:\n",
    "1. Identify Salient Themes:\n",
    "Understand the paragraph’s content within the context of the Washington State K-12 public school system.\n",
    "Refer to the ‘Parent’ column in the Codebook for broader thematic categories.\n",
    "Pinpoint up to three salient themes from these ‘Parent’ categories.\n",
    "These themes should highlight the most significant ideas in the paragraph.\n",
    "Label the paragraph with the chosen ‘Parent’ themes.\n",
    "\n",
    "2. Dive into Child Themes:\n",
    "The ‘Child’ column in the Codebook lists detailed thematic subcategories, which fall under the broader ‘Parent’ categories.\n",
    "The ‘Child_description’ elaborates on the ‘Child’ categories, and the ‘Key words’ column lists pertinent terms for each ‘Child’ category.\n",
    "\n",
    "3. Associate with Child Categories:\n",
    "Revisit the paragraph, keeping the Washington State K-12 public school system context in mind.\n",
    "For each previously identified ‘Parent’ theme, pinpoint the apt ‘Child’ subcategories from the Codebook. The ‘Child_description’ and ‘Key words’ columns can aid your decision.\n",
    "Ensure the ‘Child’ categories align with the paragraph’s content. If there’s no fit or you’re uncertain, label it as ‘None’.\n",
    "From your identified ‘Parent’ and ‘Child’ pairs, pick the top three pairs that encapsulate the paragraph’s central ideas.\n",
    "Label the paragraph with these three ‘Parent’ and corresponding ‘Child’ pairs.\n",
    "\n",
    "Codebook:\n",
    "{codebook}\n",
    "\n",
    "Paragraph for Analysis:\n",
    "[[[TEXTGOHERE]]]\n",
    "\n",
    "Response Format:\n",
    "Frame your answer as a JSON object containing the keys: ‘Parent 1’, ‘Child 1’, ‘Parent 2’, ‘Child 2’, ‘Parent 3’, ‘Child 3’, and ‘Reasoning’.\n",
    "\"\"\""
   ]
  },
  {
   "cell_type": "code",
   "execution_count": null,
   "metadata": {
    "id": "VrlN4Ghh7QXL"
   },
   "outputs": [],
   "source": [
    "def create_prompt(doc_in):\n",
    "    return prompt_base2.replace('TEXTGOHERE', doc_in)"
   ]
  },
  {
   "cell_type": "code",
   "execution_count": null,
   "metadata": {
    "id": "SDgDxSMDEslJ"
   },
   "outputs": [],
   "source": [
    "t = df.iloc[8:10, ]"
   ]
  },
  {
   "cell_type": "code",
   "execution_count": null,
   "metadata": {
    "colab": {
     "base_uri": "https://localhost:8080/"
    },
    "id": "6_7GLgaoEmnW",
    "outputId": "8249627f-f0f1-4540-9b31-967b744d3acf"
   },
   "outputs": [
    {
     "name": "stderr",
     "output_type": "stream",
     "text": [
      "100%|██████████| 2/2 [00:21<00:00, 10.93s/it]\n"
     ]
    }
   ],
   "source": [
    "output2 = []\n",
    "for index, row in tqdm(t.iterrows(), total = t.shape[0]):\n",
    "        doc_in = row.documents\n",
    "        output_current = label_topic(doc_in)\n",
    "        output2.append(output_current)"
   ]
  },
  {
   "cell_type": "code",
   "execution_count": null,
   "metadata": {
    "colab": {
     "base_uri": "https://localhost:8080/"
    },
    "id": "KiXirhoRxZ1V",
    "outputId": "f09557f9-b071-4ea1-8a18-349ce538741b"
   },
   "outputs": [
    {
     "name": "stdout",
     "output_type": "stream",
     "text": [
      "{\n",
      "  \"Parent 1\": \"Staffing resources\",\n",
      "  \"Child 1\": \"Mentoring, coaching, and teacher learning\",\n",
      "  \"Parent 2\": \"Curriculum and instruction\",\n",
      "  \"Child 2\": \"Curriculum development and instructional delivery\",\n",
      "  \"Parent 3\": \"System supports and interventions\",\n",
      "  \"Child 3\": \"School system support and improvement\",\n",
      "  \"Reasoning\": \"The paragraph discusses the challenges faced by new teachers who may not have had prior student teaching experience, which aligns with the 'Staffing resources' and 'Mentoring, coaching, and teacher learning' themes. The reference to the need for these teachers to gain experience in the classroom also connects to 'Curriculum and instruction' and 'Curriculum development and instructional delivery'. Lastly, the hopes expressed for future educators to have more student teaching experience resonate with 'System supports and interventions' and 'School system support and improvement'.\"\n",
      "}\n"
     ]
    }
   ],
   "source": [
    "# cot prompt results\n",
    "print(output2[0])"
   ]
  },
  {
   "cell_type": "code",
   "execution_count": null,
   "metadata": {
    "colab": {
     "base_uri": "https://localhost:8080/"
    },
    "id": "kNZLd8s8xkc5",
    "outputId": "35646853-a2bd-451b-bde0-728f093bcc42"
   },
   "outputs": [
    {
     "data": {
      "text/plain": [
       "Theme 1            mentoring, coaching, and teacher learning\n",
       "Theme 2    diversify teacher workforce (teacher labor mar...\n",
       "Theme 3            mentoring, coaching, and teacher learning\n",
       "Name: 9, dtype: object"
      ]
     },
     "execution_count": 41,
     "metadata": {},
     "output_type": "execute_result"
    }
   ],
   "source": [
    "# topic modeling results\n",
    "df.iloc[8, 5:8]"
   ]
  },
  {
   "cell_type": "code",
   "execution_count": null,
   "metadata": {
    "colab": {
     "base_uri": "https://localhost:8080/"
    },
    "id": "wNveCnF0x-F5",
    "outputId": "6ad9939f-29a1-4a96-df2c-713068e94a8e"
   },
   "outputs": [
    {
     "name": "stdout",
     "output_type": "stream",
     "text": [
      "{\n",
      "  \"Theme 1\": \"Mentoring, coaching, and teacher learning\",\n",
      "  \"Theme 2\": \"Instructional programs\",\n",
      "  \"Theme 3\": \"Curriculum development and instructional delivery\",\n",
      "  \"Reasoning\": \"The paragraph discusses the challenges faced by new teachers who didn't have the opportunity to gain student teaching experience. This relates to the 'Mentoring, coaching, and teacher learning' theme because it's about providing support and learning opportunities for new teachers. The mention of teachers being inside a classroom for the first time also touches on 'Instructional programs' and 'Curriculum development and instructional delivery' as they are expected to deliver curriculum and instruction for the first time.\"\n",
      "}\n"
     ]
    }
   ],
   "source": [
    "# zero-shot prompt results\n",
    "print(output[0])"
   ]
  }
 ],
 "metadata": {
  "colab": {
   "collapsed_sections": [
    "APZxuPlnT8mz",
    "DYBg5tJsw_kr"
   ],
   "provenance": [],
   "toc_visible": true
  },
  "kernelspec": {
   "display_name": "Python 3 (ipykernel)",
   "language": "python",
   "name": "python3"
  },
  "language_info": {
   "codemirror_mode": {
    "name": "ipython",
    "version": 3
   },
   "file_extension": ".py",
   "mimetype": "text/x-python",
   "name": "python",
   "nbconvert_exporter": "python",
   "pygments_lexer": "ipython3",
   "version": "3.11.5"
  }
 },
 "nbformat": 4,
 "nbformat_minor": 1
}
