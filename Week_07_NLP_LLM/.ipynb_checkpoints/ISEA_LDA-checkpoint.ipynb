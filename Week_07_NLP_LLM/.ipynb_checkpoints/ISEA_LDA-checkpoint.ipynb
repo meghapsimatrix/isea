{
 "cells": [
  {
   "cell_type": "code",
   "execution_count": 1,
   "id": "6d99cb53",
   "metadata": {},
   "outputs": [],
   "source": [
    "# import dependencies\n",
    "import sys, os\n",
    "import pandas as pd\n",
    "import numpy as np\n",
    "import nltk\n",
    "from nltk.corpus import stopwords\n",
    "import gensim\n",
    "from gensim.models import LdaModel\n",
    "from gensim import models, corpora, similarities\n",
    "import re\n",
    "from nltk.stem.porter import PorterStemmer\n",
    "import time\n",
    "from nltk import FreqDist\n",
    "from scipy.stats import entropy"
   ]
  },
  {
   "cell_type": "code",
   "execution_count": 2,
   "id": "f8b0fc93",
   "metadata": {},
   "outputs": [
    {
     "ename": "FileNotFoundError",
     "evalue": "[Errno 2] No such file or directory: '/output_data/2nd_round_qual/qual_quant_LDA.csv'",
     "output_type": "error",
     "traceback": [
      "\u001b[0;31m---------------------------------------------------------------------------\u001b[0m",
      "\u001b[0;31mFileNotFoundError\u001b[0m                         Traceback (most recent call last)",
      "Cell \u001b[0;32mIn[2], line 3\u001b[0m\n\u001b[1;32m      1\u001b[0m sys\u001b[38;5;241m.\u001b[39mpath\u001b[38;5;241m.\u001b[39mappend(os\u001b[38;5;241m.\u001b[39mpath\u001b[38;5;241m.\u001b[39mdirname(os\u001b[38;5;241m.\u001b[39mpath\u001b[38;5;241m.\u001b[39mdirname(\u001b[38;5;124m\"\u001b[39m\u001b[38;5;124m\"\u001b[39m)))\n\u001b[1;32m      2\u001b[0m DIRNAME \u001b[38;5;241m=\u001b[39m os\u001b[38;5;241m.\u001b[39mpath\u001b[38;5;241m.\u001b[39mdirname(\u001b[38;5;124m\"\u001b[39m\u001b[38;5;124m\"\u001b[39m)\n\u001b[0;32m----> 3\u001b[0m df \u001b[38;5;241m=\u001b[39m pd\u001b[38;5;241m.\u001b[39mread_csv(\u001b[38;5;124mf\u001b[39m\u001b[38;5;124m'\u001b[39m\u001b[38;5;132;01m{\u001b[39;00mDIRNAME\u001b[38;5;132;01m}\u001b[39;00m\u001b[38;5;124m/output_data/2nd_round_qual/qual_quant_LDA.csv\u001b[39m\u001b[38;5;124m'\u001b[39m)\n",
      "File \u001b[0;32m~/anaconda3/lib/python3.11/site-packages/pandas/io/parsers/readers.py:912\u001b[0m, in \u001b[0;36mread_csv\u001b[0;34m(filepath_or_buffer, sep, delimiter, header, names, index_col, usecols, dtype, engine, converters, true_values, false_values, skipinitialspace, skiprows, skipfooter, nrows, na_values, keep_default_na, na_filter, verbose, skip_blank_lines, parse_dates, infer_datetime_format, keep_date_col, date_parser, date_format, dayfirst, cache_dates, iterator, chunksize, compression, thousands, decimal, lineterminator, quotechar, quoting, doublequote, escapechar, comment, encoding, encoding_errors, dialect, on_bad_lines, delim_whitespace, low_memory, memory_map, float_precision, storage_options, dtype_backend)\u001b[0m\n\u001b[1;32m    899\u001b[0m kwds_defaults \u001b[38;5;241m=\u001b[39m _refine_defaults_read(\n\u001b[1;32m    900\u001b[0m     dialect,\n\u001b[1;32m    901\u001b[0m     delimiter,\n\u001b[0;32m   (...)\u001b[0m\n\u001b[1;32m    908\u001b[0m     dtype_backend\u001b[38;5;241m=\u001b[39mdtype_backend,\n\u001b[1;32m    909\u001b[0m )\n\u001b[1;32m    910\u001b[0m kwds\u001b[38;5;241m.\u001b[39mupdate(kwds_defaults)\n\u001b[0;32m--> 912\u001b[0m \u001b[38;5;28;01mreturn\u001b[39;00m _read(filepath_or_buffer, kwds)\n",
      "File \u001b[0;32m~/anaconda3/lib/python3.11/site-packages/pandas/io/parsers/readers.py:577\u001b[0m, in \u001b[0;36m_read\u001b[0;34m(filepath_or_buffer, kwds)\u001b[0m\n\u001b[1;32m    574\u001b[0m _validate_names(kwds\u001b[38;5;241m.\u001b[39mget(\u001b[38;5;124m\"\u001b[39m\u001b[38;5;124mnames\u001b[39m\u001b[38;5;124m\"\u001b[39m, \u001b[38;5;28;01mNone\u001b[39;00m))\n\u001b[1;32m    576\u001b[0m \u001b[38;5;66;03m# Create the parser.\u001b[39;00m\n\u001b[0;32m--> 577\u001b[0m parser \u001b[38;5;241m=\u001b[39m TextFileReader(filepath_or_buffer, \u001b[38;5;241m*\u001b[39m\u001b[38;5;241m*\u001b[39mkwds)\n\u001b[1;32m    579\u001b[0m \u001b[38;5;28;01mif\u001b[39;00m chunksize \u001b[38;5;129;01mor\u001b[39;00m iterator:\n\u001b[1;32m    580\u001b[0m     \u001b[38;5;28;01mreturn\u001b[39;00m parser\n",
      "File \u001b[0;32m~/anaconda3/lib/python3.11/site-packages/pandas/io/parsers/readers.py:1407\u001b[0m, in \u001b[0;36mTextFileReader.__init__\u001b[0;34m(self, f, engine, **kwds)\u001b[0m\n\u001b[1;32m   1404\u001b[0m     \u001b[38;5;28mself\u001b[39m\u001b[38;5;241m.\u001b[39moptions[\u001b[38;5;124m\"\u001b[39m\u001b[38;5;124mhas_index_names\u001b[39m\u001b[38;5;124m\"\u001b[39m] \u001b[38;5;241m=\u001b[39m kwds[\u001b[38;5;124m\"\u001b[39m\u001b[38;5;124mhas_index_names\u001b[39m\u001b[38;5;124m\"\u001b[39m]\n\u001b[1;32m   1406\u001b[0m \u001b[38;5;28mself\u001b[39m\u001b[38;5;241m.\u001b[39mhandles: IOHandles \u001b[38;5;241m|\u001b[39m \u001b[38;5;28;01mNone\u001b[39;00m \u001b[38;5;241m=\u001b[39m \u001b[38;5;28;01mNone\u001b[39;00m\n\u001b[0;32m-> 1407\u001b[0m \u001b[38;5;28mself\u001b[39m\u001b[38;5;241m.\u001b[39m_engine \u001b[38;5;241m=\u001b[39m \u001b[38;5;28mself\u001b[39m\u001b[38;5;241m.\u001b[39m_make_engine(f, \u001b[38;5;28mself\u001b[39m\u001b[38;5;241m.\u001b[39mengine)\n",
      "File \u001b[0;32m~/anaconda3/lib/python3.11/site-packages/pandas/io/parsers/readers.py:1661\u001b[0m, in \u001b[0;36mTextFileReader._make_engine\u001b[0;34m(self, f, engine)\u001b[0m\n\u001b[1;32m   1659\u001b[0m     \u001b[38;5;28;01mif\u001b[39;00m \u001b[38;5;124m\"\u001b[39m\u001b[38;5;124mb\u001b[39m\u001b[38;5;124m\"\u001b[39m \u001b[38;5;129;01mnot\u001b[39;00m \u001b[38;5;129;01min\u001b[39;00m mode:\n\u001b[1;32m   1660\u001b[0m         mode \u001b[38;5;241m+\u001b[39m\u001b[38;5;241m=\u001b[39m \u001b[38;5;124m\"\u001b[39m\u001b[38;5;124mb\u001b[39m\u001b[38;5;124m\"\u001b[39m\n\u001b[0;32m-> 1661\u001b[0m \u001b[38;5;28mself\u001b[39m\u001b[38;5;241m.\u001b[39mhandles \u001b[38;5;241m=\u001b[39m get_handle(\n\u001b[1;32m   1662\u001b[0m     f,\n\u001b[1;32m   1663\u001b[0m     mode,\n\u001b[1;32m   1664\u001b[0m     encoding\u001b[38;5;241m=\u001b[39m\u001b[38;5;28mself\u001b[39m\u001b[38;5;241m.\u001b[39moptions\u001b[38;5;241m.\u001b[39mget(\u001b[38;5;124m\"\u001b[39m\u001b[38;5;124mencoding\u001b[39m\u001b[38;5;124m\"\u001b[39m, \u001b[38;5;28;01mNone\u001b[39;00m),\n\u001b[1;32m   1665\u001b[0m     compression\u001b[38;5;241m=\u001b[39m\u001b[38;5;28mself\u001b[39m\u001b[38;5;241m.\u001b[39moptions\u001b[38;5;241m.\u001b[39mget(\u001b[38;5;124m\"\u001b[39m\u001b[38;5;124mcompression\u001b[39m\u001b[38;5;124m\"\u001b[39m, \u001b[38;5;28;01mNone\u001b[39;00m),\n\u001b[1;32m   1666\u001b[0m     memory_map\u001b[38;5;241m=\u001b[39m\u001b[38;5;28mself\u001b[39m\u001b[38;5;241m.\u001b[39moptions\u001b[38;5;241m.\u001b[39mget(\u001b[38;5;124m\"\u001b[39m\u001b[38;5;124mmemory_map\u001b[39m\u001b[38;5;124m\"\u001b[39m, \u001b[38;5;28;01mFalse\u001b[39;00m),\n\u001b[1;32m   1667\u001b[0m     is_text\u001b[38;5;241m=\u001b[39mis_text,\n\u001b[1;32m   1668\u001b[0m     errors\u001b[38;5;241m=\u001b[39m\u001b[38;5;28mself\u001b[39m\u001b[38;5;241m.\u001b[39moptions\u001b[38;5;241m.\u001b[39mget(\u001b[38;5;124m\"\u001b[39m\u001b[38;5;124mencoding_errors\u001b[39m\u001b[38;5;124m\"\u001b[39m, \u001b[38;5;124m\"\u001b[39m\u001b[38;5;124mstrict\u001b[39m\u001b[38;5;124m\"\u001b[39m),\n\u001b[1;32m   1669\u001b[0m     storage_options\u001b[38;5;241m=\u001b[39m\u001b[38;5;28mself\u001b[39m\u001b[38;5;241m.\u001b[39moptions\u001b[38;5;241m.\u001b[39mget(\u001b[38;5;124m\"\u001b[39m\u001b[38;5;124mstorage_options\u001b[39m\u001b[38;5;124m\"\u001b[39m, \u001b[38;5;28;01mNone\u001b[39;00m),\n\u001b[1;32m   1670\u001b[0m )\n\u001b[1;32m   1671\u001b[0m \u001b[38;5;28;01massert\u001b[39;00m \u001b[38;5;28mself\u001b[39m\u001b[38;5;241m.\u001b[39mhandles \u001b[38;5;129;01mis\u001b[39;00m \u001b[38;5;129;01mnot\u001b[39;00m \u001b[38;5;28;01mNone\u001b[39;00m\n\u001b[1;32m   1672\u001b[0m f \u001b[38;5;241m=\u001b[39m \u001b[38;5;28mself\u001b[39m\u001b[38;5;241m.\u001b[39mhandles\u001b[38;5;241m.\u001b[39mhandle\n",
      "File \u001b[0;32m~/anaconda3/lib/python3.11/site-packages/pandas/io/common.py:859\u001b[0m, in \u001b[0;36mget_handle\u001b[0;34m(path_or_buf, mode, encoding, compression, memory_map, is_text, errors, storage_options)\u001b[0m\n\u001b[1;32m    854\u001b[0m \u001b[38;5;28;01melif\u001b[39;00m \u001b[38;5;28misinstance\u001b[39m(handle, \u001b[38;5;28mstr\u001b[39m):\n\u001b[1;32m    855\u001b[0m     \u001b[38;5;66;03m# Check whether the filename is to be opened in binary mode.\u001b[39;00m\n\u001b[1;32m    856\u001b[0m     \u001b[38;5;66;03m# Binary mode does not support 'encoding' and 'newline'.\u001b[39;00m\n\u001b[1;32m    857\u001b[0m     \u001b[38;5;28;01mif\u001b[39;00m ioargs\u001b[38;5;241m.\u001b[39mencoding \u001b[38;5;129;01mand\u001b[39;00m \u001b[38;5;124m\"\u001b[39m\u001b[38;5;124mb\u001b[39m\u001b[38;5;124m\"\u001b[39m \u001b[38;5;129;01mnot\u001b[39;00m \u001b[38;5;129;01min\u001b[39;00m ioargs\u001b[38;5;241m.\u001b[39mmode:\n\u001b[1;32m    858\u001b[0m         \u001b[38;5;66;03m# Encoding\u001b[39;00m\n\u001b[0;32m--> 859\u001b[0m         handle \u001b[38;5;241m=\u001b[39m \u001b[38;5;28mopen\u001b[39m(\n\u001b[1;32m    860\u001b[0m             handle,\n\u001b[1;32m    861\u001b[0m             ioargs\u001b[38;5;241m.\u001b[39mmode,\n\u001b[1;32m    862\u001b[0m             encoding\u001b[38;5;241m=\u001b[39mioargs\u001b[38;5;241m.\u001b[39mencoding,\n\u001b[1;32m    863\u001b[0m             errors\u001b[38;5;241m=\u001b[39merrors,\n\u001b[1;32m    864\u001b[0m             newline\u001b[38;5;241m=\u001b[39m\u001b[38;5;124m\"\u001b[39m\u001b[38;5;124m\"\u001b[39m,\n\u001b[1;32m    865\u001b[0m         )\n\u001b[1;32m    866\u001b[0m     \u001b[38;5;28;01melse\u001b[39;00m:\n\u001b[1;32m    867\u001b[0m         \u001b[38;5;66;03m# Binary mode\u001b[39;00m\n\u001b[1;32m    868\u001b[0m         handle \u001b[38;5;241m=\u001b[39m \u001b[38;5;28mopen\u001b[39m(handle, ioargs\u001b[38;5;241m.\u001b[39mmode)\n",
      "\u001b[0;31mFileNotFoundError\u001b[0m: [Errno 2] No such file or directory: '/output_data/2nd_round_qual/qual_quant_LDA.csv'"
     ]
    }
   ],
   "source": [
    "sys.path.append(os.path.dirname(os.path.dirname(\"\")))\n",
    "DIRNAME = os.path.dirname(\"\")\n",
    "df = pd.read_csv(f'{DIRNAME}/output_data/2nd_round_qual/qual_quant_LDA.csv')"
   ]
  },
  {
   "cell_type": "code",
   "execution_count": 4,
   "id": "e0fdcf9d",
   "metadata": {},
   "outputs": [
    {
     "data": {
      "text/html": [
       "<div>\n",
       "<style scoped>\n",
       "    .dataframe tbody tr th:only-of-type {\n",
       "        vertical-align: middle;\n",
       "    }\n",
       "\n",
       "    .dataframe tbody tr th {\n",
       "        vertical-align: top;\n",
       "    }\n",
       "\n",
       "    .dataframe thead th {\n",
       "        text-align: right;\n",
       "    }\n",
       "</style>\n",
       "<table border=\"1\" class=\"dataframe\">\n",
       "  <thead>\n",
       "    <tr style=\"text-align: right;\">\n",
       "      <th></th>\n",
       "      <th>theme</th>\n",
       "      <th>documents</th>\n",
       "      <th>measure</th>\n",
       "    </tr>\n",
       "  </thead>\n",
       "  <tbody>\n",
       "    <tr>\n",
       "      <th>0</th>\n",
       "      <td>2</td>\n",
       "      <td>So speaking at a local district level, we have...</td>\n",
       "      <td>Theme1_code</td>\n",
       "    </tr>\n",
       "    <tr>\n",
       "      <th>1</th>\n",
       "      <td>3</td>\n",
       "      <td>And I think within the guardrails, the set of ...</td>\n",
       "      <td>Theme1_code</td>\n",
       "    </tr>\n",
       "    <tr>\n",
       "      <th>2</th>\n",
       "      <td>4</td>\n",
       "      <td>One of the things that jump off has been the i...</td>\n",
       "      <td>Theme1_code</td>\n",
       "    </tr>\n",
       "    <tr>\n",
       "      <th>3</th>\n",
       "      <td>6</td>\n",
       "      <td>we have been involved in the discipline discus...</td>\n",
       "      <td>Theme1_code</td>\n",
       "    </tr>\n",
       "    <tr>\n",
       "      <th>4</th>\n",
       "      <td>7</td>\n",
       "      <td>But furthermore, providers like us had more in...</td>\n",
       "      <td>Theme1_code</td>\n",
       "    </tr>\n",
       "  </tbody>\n",
       "</table>\n",
       "</div>"
      ],
      "text/plain": [
       "  theme                                          documents      measure\n",
       "0     2  So speaking at a local district level, we have...  Theme1_code\n",
       "1     3  And I think within the guardrails, the set of ...  Theme1_code\n",
       "2     4  One of the things that jump off has been the i...  Theme1_code\n",
       "3     6  we have been involved in the discipline discus...  Theme1_code\n",
       "4     7  But furthermore, providers like us had more in...  Theme1_code"
      ]
     },
     "execution_count": 4,
     "metadata": {},
     "output_type": "execute_result"
    }
   ],
   "source": [
    "df.fillna(value=\"\", inplace=True)\n",
    "# shuffle the data\n",
    "df.reset_index(drop=True,inplace=True)\n",
    "df.head()"
   ]
  },
  {
   "cell_type": "markdown",
   "id": "b10f6fe5",
   "metadata": {},
   "source": [
    "## Preprocessing"
   ]
  },
  {
   "cell_type": "code",
   "execution_count": 5,
   "id": "1688eaef",
   "metadata": {},
   "outputs": [],
   "source": [
    "# clean and tokenize\n",
    "def initial_clean(text):\n",
    "    text = re.sub(\"[^a-zA-Z ]\", \"\", text)\n",
    "    text = text.lower() # lower case the text\n",
    "    text = nltk.word_tokenize(text)\n",
    "    return text\n",
    "\n",
    "stop_words = stopwords.words('english')\n",
    "\n",
    "def remove_stop_words(text):\n",
    "    return [word for word in text if word not in stop_words]\n",
    "\n",
    "stemmer = PorterStemmer()\n",
    "def stem_words(text):\n",
    "    \"\"\"\n",
    "    Function to stem words, so plural and singular are treated the same\n",
    "    \"\"\"\n",
    "    try:\n",
    "        text = [stemmer.stem(word) for word in text]\n",
    "        text = [word for word in text if len(word) > 1] # make sure we have no 1 letter words\n",
    "    except IndexError:\n",
    "        pass\n",
    "    return text\n",
    "\n",
    "def apply_all(text):\n",
    "    \"\"\"\n",
    "    This function applies all the functions above into one\n",
    "    \"\"\"\n",
    "    return stem_words(remove_stop_words(initial_clean(text)))\n"
   ]
  },
  {
   "cell_type": "code",
   "execution_count": 6,
   "id": "8d1cf0b2",
   "metadata": {},
   "outputs": [],
   "source": [
    "# clean text and title and create new column \"tokenized\"\n",
    "\n",
    "df['tokenized'] = df['documents'].apply(apply_all)"
   ]
  },
  {
   "cell_type": "code",
   "execution_count": 7,
   "id": "d86bc239",
   "metadata": {},
   "outputs": [
    {
     "data": {
      "text/plain": [
       "3686"
      ]
     },
     "execution_count": 7,
     "metadata": {},
     "output_type": "execute_result"
    }
   ],
   "source": [
    "# obtain a list of all words\n",
    "all_words = [word for item in list(df['tokenized']) for word in item]\n",
    "# use nltk fdist to get a frequency distribution of all words\n",
    "fdist = FreqDist(all_words)\n",
    "len(fdist) # number of unique words"
   ]
  },
  {
   "cell_type": "code",
   "execution_count": 8,
   "id": "4850864f",
   "metadata": {},
   "outputs": [
    {
     "data": {
      "text/plain": [
       "[('iq', 3),\n",
       " ('pastor', 3),\n",
       " ('shortsight', 3),\n",
       " ('lone', 3),\n",
       " ('loneli', 3),\n",
       " ('york', 3),\n",
       " ('eat', 3),\n",
       " ('sacrific', 3),\n",
       " ('nonn', 3),\n",
       " ('su', 3)]"
      ]
     },
     "execution_count": 8,
     "metadata": {},
     "output_type": "execute_result"
    }
   ],
   "source": [
    "# choose k and visually inspect the bottom n words of the top k\n",
    "k = 3500\n",
    "top_k_words = fdist.most_common(k)\n",
    "top_k_words[-10:] # n=10 in this case"
   ]
  },
  {
   "cell_type": "code",
   "execution_count": 9,
   "id": "976533f0",
   "metadata": {},
   "outputs": [],
   "source": [
    "# define a function only to keep words in the top k words\n",
    "top_k_words,_ = zip(*fdist.most_common(k))\n",
    "top_k_words = set(top_k_words)\n",
    "def keep_top_k_words(text):\n",
    "    return [word for word in text if word in top_k_words]"
   ]
  },
  {
   "cell_type": "code",
   "execution_count": 10,
   "id": "cd50f604",
   "metadata": {},
   "outputs": [],
   "source": [
    "df['tokenized'] = df['tokenized'].apply(keep_top_k_words)"
   ]
  },
  {
   "cell_type": "code",
   "execution_count": 11,
   "id": "78979a16",
   "metadata": {},
   "outputs": [
    {
     "name": "stdout",
     "output_type": "stream",
     "text": [
      "length of list: 188 \n",
      "average document length 1045.063829787234 \n",
      "minimum document length 31 \n",
      "maximum document length 13474\n"
     ]
    }
   ],
   "source": [
    "# document length (weights)\n",
    "df['doc_len'] = df['tokenized'].apply(lambda x: len(x))\n",
    "doc_lengths = list(df['doc_len'])\n",
    "df.drop(labels='doc_len', axis=1, inplace=True)\n",
    "\n",
    "print(\"length of list:\",len(doc_lengths),\n",
    "      \"\\naverage document length\", np.average(doc_lengths),\n",
    "      \"\\nminimum document length\", min(doc_lengths),\n",
    "      \"\\nmaximum document length\", max(doc_lengths))"
   ]
  },
  {
   "cell_type": "markdown",
   "id": "d0311fd0",
   "metadata": {},
   "source": [
    "## LDA"
   ]
  },
  {
   "cell_type": "code",
   "execution_count": 12,
   "id": "df27eb5b",
   "metadata": {},
   "outputs": [],
   "source": [
    "# create a mask of binary values\n",
    "# use entire corpus to train\n",
    "msk = np.random.rand(len(df)) < 1"
   ]
  },
  {
   "cell_type": "code",
   "execution_count": 13,
   "id": "bb0215ed",
   "metadata": {},
   "outputs": [],
   "source": [
    "train_df = df[msk]\n",
    "train_df.reset_index(drop=True,inplace=True)\n",
    "\n",
    "test_df = df[~msk]\n",
    "test_df.reset_index(drop=True,inplace=True)"
   ]
  },
  {
   "cell_type": "code",
   "execution_count": 14,
   "id": "bdeea101",
   "metadata": {},
   "outputs": [
    {
     "name": "stdout",
     "output_type": "stream",
     "text": [
      "188 188 0\n"
     ]
    }
   ],
   "source": [
    "print(len(df),len(train_df),len(test_df))"
   ]
  },
  {
   "cell_type": "code",
   "execution_count": 15,
   "id": "35b4b8df",
   "metadata": {},
   "outputs": [],
   "source": [
    "def train_lda(data):\n",
    "    \"\"\"\n",
    "    This function trains the lda model\n",
    "    We setup parameters like number of topics, the chunksize to use in Hoffman method\n",
    "    We also do 2 passes of the data since this is a small dataset, so we want the distributions to stabilize\n",
    "    \"\"\"\n",
    "    num_topics = 25 #similar to select for topic modeling\n",
    "    chunksize = 1\n",
    "    dictionary = corpora.Dictionary(data['tokenized'])\n",
    "    corpus = [dictionary.doc2bow(doc) for doc in data['tokenized']]\n",
    "    t1 = time.time()\n",
    "    # low alpha means each document is only represented by a small number of topics, and vice versa\n",
    "    # low eta means each topic is only represented by a small number of words, and vice versa\n",
    "    lda = LdaModel(corpus=corpus, num_topics=num_topics, id2word=dictionary,\n",
    "                   alpha=1e-2, eta=0.5e-2, chunksize=chunksize, minimum_probability=0.0, passes=2)\n",
    "    t2 = time.time()\n",
    "    print(\"Time to train LDA model on \", len(df), \"articles: \", (t2-t1)/60, \"min\")\n",
    "    return dictionary,corpus,lda"
   ]
  },
  {
   "cell_type": "code",
   "execution_count": 16,
   "id": "e47235ab",
   "metadata": {},
   "outputs": [
    {
     "name": "stdout",
     "output_type": "stream",
     "text": [
      "Time to train LDA model on  188 articles:  0.5634659965833028 min\n"
     ]
    }
   ],
   "source": [
    "dictionary,corpus,lda = train_lda(train_df)"
   ]
  },
  {
   "cell_type": "code",
   "execution_count": 17,
   "id": "2b09114e",
   "metadata": {},
   "outputs": [
    {
     "data": {
      "text/plain": [
       "[(11,\n",
       "  '0.039*\"think\" + 0.022*\"work\" + 0.021*\"like\" + 0.020*\"realli\" + 0.018*\"educ\" + 0.016*\"lot\" + 0.015*\"thing\" + 0.014*\"way\" + 0.013*\"want\" + 0.012*\"polici\" + 0.011*\"go\" + 0.011*\"build\" + 0.011*\"commun\" + 0.011*\"equiti\" + 0.010*\"would\" + 0.010*\"understand\" + 0.009*\"make\" + 0.009*\"also\" + 0.009*\"peopl\" + 0.009*\"around\"'),\n",
       " (5,\n",
       "  '0.000*\"gossip\" + 0.000*\"homeroom\" + 0.000*\"hoop\" + 0.000*\"heck\" + 0.000*\"highli\" + 0.000*\"graphic\" + 0.000*\"federalraceandethn\" + 0.000*\"gosh\" + 0.000*\"glean\" + 0.000*\"gi\" + 0.000*\"gaze\" + 0.000*\"funder\" + 0.000*\"formal\" + 0.000*\"finish\" + 0.000*\"fingertip\" + 0.000*\"final\" + 0.000*\"filipino\" + 0.000*\"guru\" + 0.000*\"hole\" + 0.000*\"fail\"'),\n",
       " (6,\n",
       "  '0.000*\"gossip\" + 0.000*\"homeroom\" + 0.000*\"hoop\" + 0.000*\"heck\" + 0.000*\"highli\" + 0.000*\"graphic\" + 0.000*\"federalraceandethn\" + 0.000*\"gosh\" + 0.000*\"glean\" + 0.000*\"gi\" + 0.000*\"gaze\" + 0.000*\"funder\" + 0.000*\"formal\" + 0.000*\"finish\" + 0.000*\"fingertip\" + 0.000*\"final\" + 0.000*\"filipino\" + 0.000*\"guru\" + 0.000*\"hole\" + 0.000*\"fail\"'),\n",
       " (20,\n",
       "  '0.000*\"gossip\" + 0.000*\"homeroom\" + 0.000*\"hoop\" + 0.000*\"heck\" + 0.000*\"highli\" + 0.000*\"graphic\" + 0.000*\"federalraceandethn\" + 0.000*\"gosh\" + 0.000*\"glean\" + 0.000*\"gi\" + 0.000*\"gaze\" + 0.000*\"funder\" + 0.000*\"formal\" + 0.000*\"finish\" + 0.000*\"fingertip\" + 0.000*\"final\" + 0.000*\"filipino\" + 0.000*\"guru\" + 0.000*\"hole\" + 0.000*\"fail\"'),\n",
       " (21,\n",
       "  '0.000*\"gossip\" + 0.000*\"homeroom\" + 0.000*\"hoop\" + 0.000*\"heck\" + 0.000*\"highli\" + 0.000*\"graphic\" + 0.000*\"federalraceandethn\" + 0.000*\"gosh\" + 0.000*\"glean\" + 0.000*\"gi\" + 0.000*\"gaze\" + 0.000*\"funder\" + 0.000*\"formal\" + 0.000*\"finish\" + 0.000*\"fingertip\" + 0.000*\"final\" + 0.000*\"filipino\" + 0.000*\"guru\" + 0.000*\"hole\" + 0.000*\"fail\"'),\n",
       " (7,\n",
       "  '0.000*\"gossip\" + 0.000*\"homeroom\" + 0.000*\"hoop\" + 0.000*\"heck\" + 0.000*\"highli\" + 0.000*\"graphic\" + 0.000*\"federalraceandethn\" + 0.000*\"gosh\" + 0.000*\"glean\" + 0.000*\"gi\" + 0.000*\"gaze\" + 0.000*\"funder\" + 0.000*\"formal\" + 0.000*\"finish\" + 0.000*\"fingertip\" + 0.000*\"final\" + 0.000*\"filipino\" + 0.000*\"guru\" + 0.000*\"hole\" + 0.000*\"fail\"'),\n",
       " (1,\n",
       "  '0.383*\"varieti\" + 0.000*\"new\" + 0.000*\"honor\" + 0.000*\"guru\" + 0.000*\"homeroom\" + 0.000*\"hoop\" + 0.000*\"heck\" + 0.000*\"highli\" + 0.000*\"final\" + 0.000*\"graphic\" + 0.000*\"gossip\" + 0.000*\"glean\" + 0.000*\"hole\" + 0.000*\"gi\" + 0.000*\"gaze\" + 0.000*\"funder\" + 0.000*\"formal\" + 0.000*\"finish\" + 0.000*\"gosh\" + 0.000*\"halftim\"'),\n",
       " (9,\n",
       "  '0.000*\"gossip\" + 0.000*\"homeroom\" + 0.000*\"hoop\" + 0.000*\"heck\" + 0.000*\"highli\" + 0.000*\"graphic\" + 0.000*\"federalraceandethn\" + 0.000*\"gosh\" + 0.000*\"glean\" + 0.000*\"gi\" + 0.000*\"gaze\" + 0.000*\"funder\" + 0.000*\"formal\" + 0.000*\"finish\" + 0.000*\"fingertip\" + 0.000*\"final\" + 0.000*\"filipino\" + 0.000*\"guru\" + 0.000*\"hole\" + 0.000*\"fail\"'),\n",
       " (0,\n",
       "  '0.134*\"commun\" + 0.060*\"chang\" + 0.048*\"local\" + 0.047*\"board\" + 0.045*\"make\" + 0.042*\"engag\" + 0.041*\"schoolboard\" + 0.040*\"member\" + 0.037*\"polit\" + 0.034*\"organ\" + 0.031*\"meet\" + 0.030*\"decis\" + 0.028*\"govern\" + 0.026*\"process\" + 0.026*\"sens\" + 0.025*\"repres\" + 0.021*\"director\" + 0.021*\"leadership\" + 0.018*\"respons\" + 0.017*\"power\"'),\n",
       " (12,\n",
       "  '0.202*\"program\" + 0.199*\"languag\" + 0.064*\"bilingu\" + 0.062*\"year\" + 0.060*\"dual\" + 0.040*\"grant\" + 0.040*\"high\" + 0.030*\"nativ\" + 0.029*\"one\" + 0.028*\"financi\" + 0.026*\"get\" + 0.026*\"fund\" + 0.024*\"last\" + 0.023*\"classroom\" + 0.022*\"elementari\" + 0.015*\"free\" + 0.014*\"state\" + 0.014*\"went\" + 0.013*\"educ\" + 0.012*\"higher\"')]"
      ]
     },
     "execution_count": 17,
     "metadata": {},
     "output_type": "execute_result"
    }
   ],
   "source": [
    "# show_topics method shows the the top num_words contributing to num_topics number of random topics\n",
    "lda.show_topics(num_topics=10, num_words=20)"
   ]
  },
  {
   "cell_type": "code",
   "execution_count": 18,
   "id": "105ce269",
   "metadata": {},
   "outputs": [
    {
     "data": {
      "text/plain": [
       "[('gossip', 0.00028571428),\n",
       " ('homeroom', 0.00028571428),\n",
       " ('hoop', 0.00028571428),\n",
       " ('heck', 0.00028571428),\n",
       " ('highli', 0.00028571428),\n",
       " ('graphic', 0.00028571428),\n",
       " ('federalraceandethn', 0.00028571428),\n",
       " ('gosh', 0.00028571428),\n",
       " ('glean', 0.00028571428),\n",
       " ('gi', 0.00028571428),\n",
       " ('gaze', 0.00028571428),\n",
       " ('funder', 0.00028571428),\n",
       " ('formal', 0.00028571428),\n",
       " ('finish', 0.00028571428),\n",
       " ('fingertip', 0.00028571428),\n",
       " ('final', 0.00028571428),\n",
       " ('filipino', 0.00028571428),\n",
       " ('guru', 0.00028571428),\n",
       " ('hole', 0.00028571428),\n",
       " ('fail', 0.00028571428)]"
      ]
     },
     "execution_count": 18,
     "metadata": {},
     "output_type": "execute_result"
    }
   ],
   "source": [
    "#inspect individual topics as such\n",
    "lda.show_topic(topicid=6, topn=20)"
   ]
  },
  {
   "cell_type": "code",
   "execution_count": 19,
   "id": "ad497114",
   "metadata": {},
   "outputs": [
    {
     "name": "stdout",
     "output_type": "stream",
     "text": [
      "70\n"
     ]
    }
   ],
   "source": [
    "# select and article at random from train_df\n",
    "random_article_index = np.random.randint(len(train_df))\n",
    "bow = dictionary.doc2bow(train_df.iloc[random_article_index,3])\n",
    "print(random_article_index)"
   ]
  },
  {
   "cell_type": "code",
   "execution_count": 20,
   "id": "eed34f70",
   "metadata": {},
   "outputs": [],
   "source": [
    "# get the topic contributions for the document chosen at random above\n",
    "doc_distribution = np.array([tup[1] for tup in lda.get_document_topics(bow=bow)])"
   ]
  },
  {
   "cell_type": "code",
   "execution_count": 21,
   "id": "6f4ee2d5",
   "metadata": {},
   "outputs": [
    {
     "data": {
      "image/png": "[encoded data removed]",
      "text/plain": [
       "<Figure size 1200x600 with 1 Axes>"
      ]
     },
     "metadata": {},
     "output_type": "display_data"
    }
   ],
   "source": [
    "# bar plot of topic distribution for this document\n",
    "fig, ax = plt.subplots(figsize=(12,6));\n",
    "# the histogram of the data\n",
    "patches = ax.bar(np.arange(len(doc_distribution)), doc_distribution)\n",
    "ax.set_xlabel('Topic ID', fontsize=15)\n",
    "ax.set_ylabel('Topic Contribution', fontsize=15)\n",
    "ax.set_title(\"Topic Distribution for Article \" + str(random_article_index), fontsize=20)\n",
    "ax.set_xticks(np.linspace(1,30,30))\n",
    "fig.tight_layout()\n",
    "plt.show()"
   ]
  },
  {
   "cell_type": "code",
   "execution_count": 22,
   "id": "31ce8586",
   "metadata": {},
   "outputs": [
    {
     "name": "stdout",
     "output_type": "stream",
     "text": [
      "23 [('go', 0.044370323), ('kid', 0.03938231), ('get', 0.03228795), ('state', 0.02546314), ('school', 0.021622285), ('like', 0.019906642), ('thing', 0.016703622), ('peopl', 0.014838489), ('one', 0.013462475), ('want', 0.013264745)] \n",
      "\n",
      "14 [('school', 0.03397838), ('student', 0.032620404), ('support', 0.020133145), ('think', 0.018079275), ('realli', 0.01788333), ('one', 0.015908927), ('look', 0.01281041), ('go', 0.012577007), ('would', 0.01238755), ('system', 0.011683398)] \n",
      "\n",
      "11 [('think', 0.039167415), ('work', 0.022105252), ('like', 0.021258494), ('realli', 0.019862562), ('educ', 0.01794331), ('lot', 0.016071115), ('thing', 0.015239546), ('way', 0.01390301), ('want', 0.012830961), ('polici', 0.011833856)] \n",
      "\n",
      "0 [('commun', 0.13394971), ('chang', 0.06039883), ('local', 0.047920827), ('board', 0.047072742), ('make', 0.045269728), ('engag', 0.04173916), ('schoolboard', 0.04125445), ('member', 0.04013), ('polit', 0.037279062), ('organ', 0.034008868)] \n",
      "\n",
      "22 [('district', 0.051444337), ('fund', 0.044935063), ('money', 0.030561356), ('titl', 0.028414784), ('like', 0.02801848), ('school', 0.026846405), ('legisl', 0.024984589), ('state', 0.02110228), ('dollar', 0.020923799), ('thing', 0.019801231)] \n",
      "\n"
     ]
    }
   ],
   "source": [
    "# print the top 5 contributing topics and their words\n",
    "for i in doc_distribution.argsort()[-5:][::-1]:\n",
    "    print(i, lda.show_topic(topicid=i, topn=10), \"\\n\")"
   ]
  }
 ],
 "metadata": {
  "kernelspec": {
   "display_name": "Python 3 (ipykernel)",
   "language": "python",
   "name": "python3"
  },
  "language_info": {
   "codemirror_mode": {
    "name": "ipython",
    "version": 3
   },
   "file_extension": ".py",
   "mimetype": "text/x-python",
   "name": "python",
   "nbconvert_exporter": "python",
   "pygments_lexer": "ipython3",
   "version": "3.11.5"
  }
 },
 "nbformat": 4,
 "nbformat_minor": 5
}
